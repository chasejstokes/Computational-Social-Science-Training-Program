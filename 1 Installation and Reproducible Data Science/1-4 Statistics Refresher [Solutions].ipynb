{
 "cells": [
  {
   "cell_type": "markdown",
   "metadata": {},
   "source": [
    "# [Computational Social Science] \n",
    "## 1-4 Statistics and Computation Refresher - Solutions\n",
    "\n",
    "This notebook will review some basic statistical and computational concepts. We assume knowledge of Python up to the level of D-Lab's [Python Fundamentals](https://github.com/dlab-berkeley/python-fundamentals) workshop. If the materials here are challenging, be sure to review them and the Fundamentals materials, and ask for help from the instructors early and often!"
   ]
  },
  {
   "cell_type": "code",
   "execution_count": 1,
   "metadata": {},
   "outputs": [],
   "source": [
    "import statsmodels.api as sm\n",
    "import numpy as np\n",
    "import pandas as pd\n",
    "import matplotlib.pyplot as plt\n",
    "%matplotlib inline\n",
    "np.random.seed(1234)"
   ]
  },
  {
   "cell_type": "markdown",
   "metadata": {},
   "source": [
    "## Load Data"
   ]
  },
  {
   "cell_type": "markdown",
   "metadata": {},
   "source": [
    "Throughout this course, we will make extensive use of [pandas dataframes](https://pandas.pydata.org/). Getting comfortable with pandas will be important as this will be the primary tool you use to load, manipulate, and combine datasets. For this lab, we will use a dataset builtin to the [statisticalmodels](https://www.statsmodels.org/stable/index.html) library. Run the following code to load the dataset."
   ]
  },
  {
   "cell_type": "code",
   "execution_count": 2,
   "metadata": {},
   "outputs": [],
   "source": [
    "anes96 = sm.datasets.anes96\n",
    "dataset_anes96 = anes96.load_pandas()\n",
    "df_anes96 = dataset_anes96.data"
   ]
  },
  {
   "cell_type": "markdown",
   "metadata": {},
   "source": [
    "## Basic Pandas Operations"
   ]
  },
  {
   "cell_type": "markdown",
   "metadata": {},
   "source": [
    "Let's run through some basic pandas operations. These methods are not an exhaustive treatment of everything pandas can do, but should provide a good refresher on some of the basics. First, try to get the first 5 rows of a pandas frame and display them in the notebook."
   ]
  },
  {
   "cell_type": "markdown",
   "metadata": {},
   "source": [
    "Next, return the first 10 rows, and then return the last 10 rows."
   ]
  },
  {
   "cell_type": "code",
   "execution_count": 3,
   "metadata": {},
   "outputs": [
    {
     "data": {
      "text/html": [
       "<div>\n",
       "<style scoped>\n",
       "    .dataframe tbody tr th:only-of-type {\n",
       "        vertical-align: middle;\n",
       "    }\n",
       "\n",
       "    .dataframe tbody tr th {\n",
       "        vertical-align: top;\n",
       "    }\n",
       "\n",
       "    .dataframe thead th {\n",
       "        text-align: right;\n",
       "    }\n",
       "</style>\n",
       "<table border=\"1\" class=\"dataframe\">\n",
       "  <thead>\n",
       "    <tr style=\"text-align: right;\">\n",
       "      <th></th>\n",
       "      <th>popul</th>\n",
       "      <th>TVnews</th>\n",
       "      <th>selfLR</th>\n",
       "      <th>ClinLR</th>\n",
       "      <th>DoleLR</th>\n",
       "      <th>PID</th>\n",
       "      <th>age</th>\n",
       "      <th>educ</th>\n",
       "      <th>income</th>\n",
       "      <th>vote</th>\n",
       "      <th>logpopul</th>\n",
       "    </tr>\n",
       "  </thead>\n",
       "  <tbody>\n",
       "    <tr>\n",
       "      <th>0</th>\n",
       "      <td>0.0</td>\n",
       "      <td>7.0</td>\n",
       "      <td>7.0</td>\n",
       "      <td>1.0</td>\n",
       "      <td>6.0</td>\n",
       "      <td>6.0</td>\n",
       "      <td>36.0</td>\n",
       "      <td>3.0</td>\n",
       "      <td>1.0</td>\n",
       "      <td>1.0</td>\n",
       "      <td>-2.302585</td>\n",
       "    </tr>\n",
       "    <tr>\n",
       "      <th>1</th>\n",
       "      <td>190.0</td>\n",
       "      <td>1.0</td>\n",
       "      <td>3.0</td>\n",
       "      <td>3.0</td>\n",
       "      <td>5.0</td>\n",
       "      <td>1.0</td>\n",
       "      <td>20.0</td>\n",
       "      <td>4.0</td>\n",
       "      <td>1.0</td>\n",
       "      <td>0.0</td>\n",
       "      <td>5.247550</td>\n",
       "    </tr>\n",
       "    <tr>\n",
       "      <th>2</th>\n",
       "      <td>31.0</td>\n",
       "      <td>7.0</td>\n",
       "      <td>2.0</td>\n",
       "      <td>2.0</td>\n",
       "      <td>6.0</td>\n",
       "      <td>1.0</td>\n",
       "      <td>24.0</td>\n",
       "      <td>6.0</td>\n",
       "      <td>1.0</td>\n",
       "      <td>0.0</td>\n",
       "      <td>3.437208</td>\n",
       "    </tr>\n",
       "    <tr>\n",
       "      <th>3</th>\n",
       "      <td>83.0</td>\n",
       "      <td>4.0</td>\n",
       "      <td>3.0</td>\n",
       "      <td>4.0</td>\n",
       "      <td>5.0</td>\n",
       "      <td>1.0</td>\n",
       "      <td>28.0</td>\n",
       "      <td>6.0</td>\n",
       "      <td>1.0</td>\n",
       "      <td>0.0</td>\n",
       "      <td>4.420045</td>\n",
       "    </tr>\n",
       "    <tr>\n",
       "      <th>4</th>\n",
       "      <td>640.0</td>\n",
       "      <td>7.0</td>\n",
       "      <td>5.0</td>\n",
       "      <td>6.0</td>\n",
       "      <td>4.0</td>\n",
       "      <td>0.0</td>\n",
       "      <td>68.0</td>\n",
       "      <td>6.0</td>\n",
       "      <td>1.0</td>\n",
       "      <td>0.0</td>\n",
       "      <td>6.461624</td>\n",
       "    </tr>\n",
       "    <tr>\n",
       "      <th>5</th>\n",
       "      <td>110.0</td>\n",
       "      <td>3.0</td>\n",
       "      <td>3.0</td>\n",
       "      <td>4.0</td>\n",
       "      <td>6.0</td>\n",
       "      <td>1.0</td>\n",
       "      <td>21.0</td>\n",
       "      <td>4.0</td>\n",
       "      <td>1.0</td>\n",
       "      <td>0.0</td>\n",
       "      <td>4.701389</td>\n",
       "    </tr>\n",
       "    <tr>\n",
       "      <th>6</th>\n",
       "      <td>100.0</td>\n",
       "      <td>7.0</td>\n",
       "      <td>5.0</td>\n",
       "      <td>6.0</td>\n",
       "      <td>4.0</td>\n",
       "      <td>1.0</td>\n",
       "      <td>77.0</td>\n",
       "      <td>4.0</td>\n",
       "      <td>1.0</td>\n",
       "      <td>0.0</td>\n",
       "      <td>4.606170</td>\n",
       "    </tr>\n",
       "    <tr>\n",
       "      <th>7</th>\n",
       "      <td>31.0</td>\n",
       "      <td>1.0</td>\n",
       "      <td>5.0</td>\n",
       "      <td>4.0</td>\n",
       "      <td>5.0</td>\n",
       "      <td>4.0</td>\n",
       "      <td>21.0</td>\n",
       "      <td>4.0</td>\n",
       "      <td>1.0</td>\n",
       "      <td>0.0</td>\n",
       "      <td>3.437208</td>\n",
       "    </tr>\n",
       "    <tr>\n",
       "      <th>8</th>\n",
       "      <td>180.0</td>\n",
       "      <td>7.0</td>\n",
       "      <td>4.0</td>\n",
       "      <td>6.0</td>\n",
       "      <td>3.0</td>\n",
       "      <td>3.0</td>\n",
       "      <td>31.0</td>\n",
       "      <td>4.0</td>\n",
       "      <td>1.0</td>\n",
       "      <td>0.0</td>\n",
       "      <td>5.193512</td>\n",
       "    </tr>\n",
       "    <tr>\n",
       "      <th>9</th>\n",
       "      <td>2800.0</td>\n",
       "      <td>0.0</td>\n",
       "      <td>3.0</td>\n",
       "      <td>3.0</td>\n",
       "      <td>7.0</td>\n",
       "      <td>0.0</td>\n",
       "      <td>39.0</td>\n",
       "      <td>3.0</td>\n",
       "      <td>1.0</td>\n",
       "      <td>0.0</td>\n",
       "      <td>7.937410</td>\n",
       "    </tr>\n",
       "  </tbody>\n",
       "</table>\n",
       "</div>"
      ],
      "text/plain": [
       "    popul  TVnews  selfLR  ClinLR  DoleLR  PID   age  educ  income  vote  \\\n",
       "0     0.0     7.0     7.0     1.0     6.0  6.0  36.0   3.0     1.0   1.0   \n",
       "1   190.0     1.0     3.0     3.0     5.0  1.0  20.0   4.0     1.0   0.0   \n",
       "2    31.0     7.0     2.0     2.0     6.0  1.0  24.0   6.0     1.0   0.0   \n",
       "3    83.0     4.0     3.0     4.0     5.0  1.0  28.0   6.0     1.0   0.0   \n",
       "4   640.0     7.0     5.0     6.0     4.0  0.0  68.0   6.0     1.0   0.0   \n",
       "5   110.0     3.0     3.0     4.0     6.0  1.0  21.0   4.0     1.0   0.0   \n",
       "6   100.0     7.0     5.0     6.0     4.0  1.0  77.0   4.0     1.0   0.0   \n",
       "7    31.0     1.0     5.0     4.0     5.0  4.0  21.0   4.0     1.0   0.0   \n",
       "8   180.0     7.0     4.0     6.0     3.0  3.0  31.0   4.0     1.0   0.0   \n",
       "9  2800.0     0.0     3.0     3.0     7.0  0.0  39.0   3.0     1.0   0.0   \n",
       "\n",
       "   logpopul  \n",
       "0 -2.302585  \n",
       "1  5.247550  \n",
       "2  3.437208  \n",
       "3  4.420045  \n",
       "4  6.461624  \n",
       "5  4.701389  \n",
       "6  4.606170  \n",
       "7  3.437208  \n",
       "8  5.193512  \n",
       "9  7.937410  "
      ]
     },
     "execution_count": 3,
     "metadata": {},
     "output_type": "execute_result"
    }
   ],
   "source": [
    "# First 10 rows\n",
    "df_anes96.head(10)"
   ]
  },
  {
   "cell_type": "code",
   "execution_count": 4,
   "metadata": {},
   "outputs": [
    {
     "data": {
      "text/html": [
       "<div>\n",
       "<style scoped>\n",
       "    .dataframe tbody tr th:only-of-type {\n",
       "        vertical-align: middle;\n",
       "    }\n",
       "\n",
       "    .dataframe tbody tr th {\n",
       "        vertical-align: top;\n",
       "    }\n",
       "\n",
       "    .dataframe thead th {\n",
       "        text-align: right;\n",
       "    }\n",
       "</style>\n",
       "<table border=\"1\" class=\"dataframe\">\n",
       "  <thead>\n",
       "    <tr style=\"text-align: right;\">\n",
       "      <th></th>\n",
       "      <th>popul</th>\n",
       "      <th>TVnews</th>\n",
       "      <th>selfLR</th>\n",
       "      <th>ClinLR</th>\n",
       "      <th>DoleLR</th>\n",
       "      <th>PID</th>\n",
       "      <th>age</th>\n",
       "      <th>educ</th>\n",
       "      <th>income</th>\n",
       "      <th>vote</th>\n",
       "      <th>logpopul</th>\n",
       "    </tr>\n",
       "  </thead>\n",
       "  <tbody>\n",
       "    <tr>\n",
       "      <th>934</th>\n",
       "      <td>1600.0</td>\n",
       "      <td>7.0</td>\n",
       "      <td>4.0</td>\n",
       "      <td>2.0</td>\n",
       "      <td>5.0</td>\n",
       "      <td>6.0</td>\n",
       "      <td>56.0</td>\n",
       "      <td>7.0</td>\n",
       "      <td>24.0</td>\n",
       "      <td>1.0</td>\n",
       "      <td>7.377821</td>\n",
       "    </tr>\n",
       "    <tr>\n",
       "      <th>935</th>\n",
       "      <td>0.0</td>\n",
       "      <td>7.0</td>\n",
       "      <td>6.0</td>\n",
       "      <td>3.0</td>\n",
       "      <td>6.0</td>\n",
       "      <td>6.0</td>\n",
       "      <td>55.0</td>\n",
       "      <td>7.0</td>\n",
       "      <td>24.0</td>\n",
       "      <td>1.0</td>\n",
       "      <td>-2.302585</td>\n",
       "    </tr>\n",
       "    <tr>\n",
       "      <th>936</th>\n",
       "      <td>0.0</td>\n",
       "      <td>7.0</td>\n",
       "      <td>6.0</td>\n",
       "      <td>2.0</td>\n",
       "      <td>6.0</td>\n",
       "      <td>6.0</td>\n",
       "      <td>41.0</td>\n",
       "      <td>4.0</td>\n",
       "      <td>24.0</td>\n",
       "      <td>1.0</td>\n",
       "      <td>-2.302585</td>\n",
       "    </tr>\n",
       "    <tr>\n",
       "      <th>937</th>\n",
       "      <td>7300.0</td>\n",
       "      <td>1.0</td>\n",
       "      <td>2.0</td>\n",
       "      <td>3.0</td>\n",
       "      <td>6.0</td>\n",
       "      <td>0.0</td>\n",
       "      <td>43.0</td>\n",
       "      <td>7.0</td>\n",
       "      <td>24.0</td>\n",
       "      <td>0.0</td>\n",
       "      <td>8.895643</td>\n",
       "    </tr>\n",
       "    <tr>\n",
       "      <th>938</th>\n",
       "      <td>16.0</td>\n",
       "      <td>7.0</td>\n",
       "      <td>7.0</td>\n",
       "      <td>1.0</td>\n",
       "      <td>7.0</td>\n",
       "      <td>6.0</td>\n",
       "      <td>34.0</td>\n",
       "      <td>3.0</td>\n",
       "      <td>24.0</td>\n",
       "      <td>1.0</td>\n",
       "      <td>2.778819</td>\n",
       "    </tr>\n",
       "    <tr>\n",
       "      <th>939</th>\n",
       "      <td>0.0</td>\n",
       "      <td>7.0</td>\n",
       "      <td>7.0</td>\n",
       "      <td>1.0</td>\n",
       "      <td>6.0</td>\n",
       "      <td>4.0</td>\n",
       "      <td>73.0</td>\n",
       "      <td>6.0</td>\n",
       "      <td>24.0</td>\n",
       "      <td>1.0</td>\n",
       "      <td>-2.302585</td>\n",
       "    </tr>\n",
       "    <tr>\n",
       "      <th>940</th>\n",
       "      <td>0.0</td>\n",
       "      <td>7.0</td>\n",
       "      <td>5.0</td>\n",
       "      <td>2.0</td>\n",
       "      <td>6.0</td>\n",
       "      <td>6.0</td>\n",
       "      <td>50.0</td>\n",
       "      <td>6.0</td>\n",
       "      <td>24.0</td>\n",
       "      <td>1.0</td>\n",
       "      <td>-2.302585</td>\n",
       "    </tr>\n",
       "    <tr>\n",
       "      <th>941</th>\n",
       "      <td>0.0</td>\n",
       "      <td>3.0</td>\n",
       "      <td>6.0</td>\n",
       "      <td>2.0</td>\n",
       "      <td>7.0</td>\n",
       "      <td>5.0</td>\n",
       "      <td>43.0</td>\n",
       "      <td>6.0</td>\n",
       "      <td>24.0</td>\n",
       "      <td>1.0</td>\n",
       "      <td>-2.302585</td>\n",
       "    </tr>\n",
       "    <tr>\n",
       "      <th>942</th>\n",
       "      <td>0.0</td>\n",
       "      <td>6.0</td>\n",
       "      <td>6.0</td>\n",
       "      <td>2.0</td>\n",
       "      <td>5.0</td>\n",
       "      <td>6.0</td>\n",
       "      <td>46.0</td>\n",
       "      <td>7.0</td>\n",
       "      <td>24.0</td>\n",
       "      <td>1.0</td>\n",
       "      <td>-2.302585</td>\n",
       "    </tr>\n",
       "    <tr>\n",
       "      <th>943</th>\n",
       "      <td>18.0</td>\n",
       "      <td>7.0</td>\n",
       "      <td>4.0</td>\n",
       "      <td>2.0</td>\n",
       "      <td>6.0</td>\n",
       "      <td>3.0</td>\n",
       "      <td>61.0</td>\n",
       "      <td>7.0</td>\n",
       "      <td>24.0</td>\n",
       "      <td>1.0</td>\n",
       "      <td>2.895912</td>\n",
       "    </tr>\n",
       "  </tbody>\n",
       "</table>\n",
       "</div>"
      ],
      "text/plain": [
       "      popul  TVnews  selfLR  ClinLR  DoleLR  PID   age  educ  income  vote  \\\n",
       "934  1600.0     7.0     4.0     2.0     5.0  6.0  56.0   7.0    24.0   1.0   \n",
       "935     0.0     7.0     6.0     3.0     6.0  6.0  55.0   7.0    24.0   1.0   \n",
       "936     0.0     7.0     6.0     2.0     6.0  6.0  41.0   4.0    24.0   1.0   \n",
       "937  7300.0     1.0     2.0     3.0     6.0  0.0  43.0   7.0    24.0   0.0   \n",
       "938    16.0     7.0     7.0     1.0     7.0  6.0  34.0   3.0    24.0   1.0   \n",
       "939     0.0     7.0     7.0     1.0     6.0  4.0  73.0   6.0    24.0   1.0   \n",
       "940     0.0     7.0     5.0     2.0     6.0  6.0  50.0   6.0    24.0   1.0   \n",
       "941     0.0     3.0     6.0     2.0     7.0  5.0  43.0   6.0    24.0   1.0   \n",
       "942     0.0     6.0     6.0     2.0     5.0  6.0  46.0   7.0    24.0   1.0   \n",
       "943    18.0     7.0     4.0     2.0     6.0  3.0  61.0   7.0    24.0   1.0   \n",
       "\n",
       "     logpopul  \n",
       "934  7.377821  \n",
       "935 -2.302585  \n",
       "936 -2.302585  \n",
       "937  8.895643  \n",
       "938  2.778819  \n",
       "939 -2.302585  \n",
       "940 -2.302585  \n",
       "941 -2.302585  \n",
       "942 -2.302585  \n",
       "943  2.895912  "
      ]
     },
     "execution_count": 4,
     "metadata": {},
     "output_type": "execute_result"
    }
   ],
   "source": [
    "# Last 10 rows\n",
    "df_anes96.tail(10)"
   ]
  },
  {
   "cell_type": "markdown",
   "metadata": {},
   "source": [
    "We can see the total number of rows and columns by using a dataframe's \"shape\" attribute:"
   ]
  },
  {
   "cell_type": "code",
   "execution_count": 5,
   "metadata": {},
   "outputs": [
    {
     "data": {
      "text/plain": [
       "(944, 11)"
      ]
     },
     "execution_count": 5,
     "metadata": {},
     "output_type": "execute_result"
    }
   ],
   "source": [
    "df_anes96.shape"
   ]
  },
  {
   "cell_type": "markdown",
   "metadata": {},
   "source": [
    "Next, check out the data types across all of the columns."
   ]
  },
  {
   "cell_type": "code",
   "execution_count": 6,
   "metadata": {},
   "outputs": [
    {
     "data": {
      "text/plain": [
       "popul       float64\n",
       "TVnews      float64\n",
       "selfLR      float64\n",
       "ClinLR      float64\n",
       "DoleLR      float64\n",
       "PID         float64\n",
       "age         float64\n",
       "educ        float64\n",
       "income      float64\n",
       "vote        float64\n",
       "logpopul    float64\n",
       "dtype: object"
      ]
     },
     "execution_count": 6,
     "metadata": {},
     "output_type": "execute_result"
    }
   ],
   "source": [
    "df_anes96.dtypes"
   ]
  },
  {
   "cell_type": "markdown",
   "metadata": {},
   "source": [
    "Now try using the [describe](https://pandas.pydata.org/pandas-docs/stable/reference/api/pandas.DataFrame.describe.html) method to see some summary statistics for each column in the dataframe."
   ]
  },
  {
   "cell_type": "code",
   "execution_count": 7,
   "metadata": {},
   "outputs": [
    {
     "data": {
      "text/html": [
       "<div>\n",
       "<style scoped>\n",
       "    .dataframe tbody tr th:only-of-type {\n",
       "        vertical-align: middle;\n",
       "    }\n",
       "\n",
       "    .dataframe tbody tr th {\n",
       "        vertical-align: top;\n",
       "    }\n",
       "\n",
       "    .dataframe thead th {\n",
       "        text-align: right;\n",
       "    }\n",
       "</style>\n",
       "<table border=\"1\" class=\"dataframe\">\n",
       "  <thead>\n",
       "    <tr style=\"text-align: right;\">\n",
       "      <th></th>\n",
       "      <th>popul</th>\n",
       "      <th>TVnews</th>\n",
       "      <th>selfLR</th>\n",
       "      <th>ClinLR</th>\n",
       "      <th>DoleLR</th>\n",
       "      <th>PID</th>\n",
       "      <th>age</th>\n",
       "      <th>educ</th>\n",
       "      <th>income</th>\n",
       "      <th>vote</th>\n",
       "      <th>logpopul</th>\n",
       "    </tr>\n",
       "  </thead>\n",
       "  <tbody>\n",
       "    <tr>\n",
       "      <th>count</th>\n",
       "      <td>944.000000</td>\n",
       "      <td>944.000000</td>\n",
       "      <td>944.000000</td>\n",
       "      <td>944.000000</td>\n",
       "      <td>944.000000</td>\n",
       "      <td>944.000000</td>\n",
       "      <td>944.000000</td>\n",
       "      <td>944.000000</td>\n",
       "      <td>944.000000</td>\n",
       "      <td>944.000000</td>\n",
       "      <td>944.000000</td>\n",
       "    </tr>\n",
       "    <tr>\n",
       "      <th>mean</th>\n",
       "      <td>306.381356</td>\n",
       "      <td>3.727754</td>\n",
       "      <td>4.325212</td>\n",
       "      <td>2.939619</td>\n",
       "      <td>5.394068</td>\n",
       "      <td>2.842161</td>\n",
       "      <td>47.043432</td>\n",
       "      <td>4.565678</td>\n",
       "      <td>16.331568</td>\n",
       "      <td>0.416314</td>\n",
       "      <td>2.472307</td>\n",
       "    </tr>\n",
       "    <tr>\n",
       "      <th>std</th>\n",
       "      <td>1082.606745</td>\n",
       "      <td>2.677235</td>\n",
       "      <td>1.438436</td>\n",
       "      <td>1.383725</td>\n",
       "      <td>1.269349</td>\n",
       "      <td>2.273337</td>\n",
       "      <td>16.423130</td>\n",
       "      <td>1.599287</td>\n",
       "      <td>5.974781</td>\n",
       "      <td>0.493208</td>\n",
       "      <td>3.187043</td>\n",
       "    </tr>\n",
       "    <tr>\n",
       "      <th>min</th>\n",
       "      <td>0.000000</td>\n",
       "      <td>0.000000</td>\n",
       "      <td>1.000000</td>\n",
       "      <td>1.000000</td>\n",
       "      <td>1.000000</td>\n",
       "      <td>0.000000</td>\n",
       "      <td>19.000000</td>\n",
       "      <td>1.000000</td>\n",
       "      <td>1.000000</td>\n",
       "      <td>0.000000</td>\n",
       "      <td>-2.302585</td>\n",
       "    </tr>\n",
       "    <tr>\n",
       "      <th>25%</th>\n",
       "      <td>1.000000</td>\n",
       "      <td>1.000000</td>\n",
       "      <td>3.000000</td>\n",
       "      <td>2.000000</td>\n",
       "      <td>5.000000</td>\n",
       "      <td>1.000000</td>\n",
       "      <td>34.000000</td>\n",
       "      <td>3.000000</td>\n",
       "      <td>14.000000</td>\n",
       "      <td>0.000000</td>\n",
       "      <td>0.095310</td>\n",
       "    </tr>\n",
       "    <tr>\n",
       "      <th>50%</th>\n",
       "      <td>22.000000</td>\n",
       "      <td>3.000000</td>\n",
       "      <td>4.000000</td>\n",
       "      <td>3.000000</td>\n",
       "      <td>6.000000</td>\n",
       "      <td>2.000000</td>\n",
       "      <td>44.000000</td>\n",
       "      <td>4.000000</td>\n",
       "      <td>17.000000</td>\n",
       "      <td>0.000000</td>\n",
       "      <td>3.095578</td>\n",
       "    </tr>\n",
       "    <tr>\n",
       "      <th>75%</th>\n",
       "      <td>110.000000</td>\n",
       "      <td>7.000000</td>\n",
       "      <td>6.000000</td>\n",
       "      <td>4.000000</td>\n",
       "      <td>6.000000</td>\n",
       "      <td>5.000000</td>\n",
       "      <td>58.000000</td>\n",
       "      <td>6.000000</td>\n",
       "      <td>21.000000</td>\n",
       "      <td>1.000000</td>\n",
       "      <td>4.701389</td>\n",
       "    </tr>\n",
       "    <tr>\n",
       "      <th>max</th>\n",
       "      <td>7300.000000</td>\n",
       "      <td>7.000000</td>\n",
       "      <td>7.000000</td>\n",
       "      <td>7.000000</td>\n",
       "      <td>7.000000</td>\n",
       "      <td>6.000000</td>\n",
       "      <td>91.000000</td>\n",
       "      <td>7.000000</td>\n",
       "      <td>24.000000</td>\n",
       "      <td>1.000000</td>\n",
       "      <td>8.895643</td>\n",
       "    </tr>\n",
       "  </tbody>\n",
       "</table>\n",
       "</div>"
      ],
      "text/plain": [
       "             popul      TVnews      selfLR      ClinLR      DoleLR  \\\n",
       "count   944.000000  944.000000  944.000000  944.000000  944.000000   \n",
       "mean    306.381356    3.727754    4.325212    2.939619    5.394068   \n",
       "std    1082.606745    2.677235    1.438436    1.383725    1.269349   \n",
       "min       0.000000    0.000000    1.000000    1.000000    1.000000   \n",
       "25%       1.000000    1.000000    3.000000    2.000000    5.000000   \n",
       "50%      22.000000    3.000000    4.000000    3.000000    6.000000   \n",
       "75%     110.000000    7.000000    6.000000    4.000000    6.000000   \n",
       "max    7300.000000    7.000000    7.000000    7.000000    7.000000   \n",
       "\n",
       "              PID         age        educ      income        vote    logpopul  \n",
       "count  944.000000  944.000000  944.000000  944.000000  944.000000  944.000000  \n",
       "mean     2.842161   47.043432    4.565678   16.331568    0.416314    2.472307  \n",
       "std      2.273337   16.423130    1.599287    5.974781    0.493208    3.187043  \n",
       "min      0.000000   19.000000    1.000000    1.000000    0.000000   -2.302585  \n",
       "25%      1.000000   34.000000    3.000000   14.000000    0.000000    0.095310  \n",
       "50%      2.000000   44.000000    4.000000   17.000000    0.000000    3.095578  \n",
       "75%      5.000000   58.000000    6.000000   21.000000    1.000000    4.701389  \n",
       "max      6.000000   91.000000    7.000000   24.000000    1.000000    8.895643  "
      ]
     },
     "execution_count": 7,
     "metadata": {},
     "output_type": "execute_result"
    }
   ],
   "source": [
    "df_anes96.describe()"
   ]
  },
  {
   "cell_type": "markdown",
   "metadata": {},
   "source": [
    "**Question**: What can you gather from these explorations? What are the data types for all of the columns? Do these data types really make sense?"
   ]
  },
  {
   "cell_type": "markdown",
   "metadata": {},
   "source": [
    "**Answer**: All of the data types are floats, but these are not necessarily meaningful. Something like \"age\" makes sense as a float, but some of the variables like \"TVnews\" seem to be categorical."
   ]
  },
  {
   "cell_type": "markdown",
   "metadata": {},
   "source": [
    "## Renaming, Indexing, and Slicing"
   ]
  },
  {
   "cell_type": "markdown",
   "metadata": {},
   "source": [
    "Now let's practice with manipulating dataframes. Renaming columns and pulling particular rows and columns are useful methods for working with dataframes."
   ]
  },
  {
   "cell_type": "markdown",
   "metadata": {},
   "source": [
    "**Challenge**: Use the [rename](https://pandas.pydata.org/pandas-docs/stable/reference/api/pandas.DataFrame.rename.html) method to change a column name. For example, try renaming \"educ\" to \"education.\""
   ]
  },
  {
   "cell_type": "code",
   "execution_count": 8,
   "metadata": {},
   "outputs": [
    {
     "data": {
      "text/html": [
       "<div>\n",
       "<style scoped>\n",
       "    .dataframe tbody tr th:only-of-type {\n",
       "        vertical-align: middle;\n",
       "    }\n",
       "\n",
       "    .dataframe tbody tr th {\n",
       "        vertical-align: top;\n",
       "    }\n",
       "\n",
       "    .dataframe thead th {\n",
       "        text-align: right;\n",
       "    }\n",
       "</style>\n",
       "<table border=\"1\" class=\"dataframe\">\n",
       "  <thead>\n",
       "    <tr style=\"text-align: right;\">\n",
       "      <th></th>\n",
       "      <th>popul</th>\n",
       "      <th>TVnews</th>\n",
       "      <th>selfLR</th>\n",
       "      <th>ClinLR</th>\n",
       "      <th>DoleLR</th>\n",
       "      <th>PID</th>\n",
       "      <th>age</th>\n",
       "      <th>education</th>\n",
       "      <th>income</th>\n",
       "      <th>vote</th>\n",
       "      <th>logpopul</th>\n",
       "    </tr>\n",
       "  </thead>\n",
       "  <tbody>\n",
       "    <tr>\n",
       "      <th>0</th>\n",
       "      <td>0.0</td>\n",
       "      <td>7.0</td>\n",
       "      <td>7.0</td>\n",
       "      <td>1.0</td>\n",
       "      <td>6.0</td>\n",
       "      <td>6.0</td>\n",
       "      <td>36.0</td>\n",
       "      <td>3.0</td>\n",
       "      <td>1.0</td>\n",
       "      <td>1.0</td>\n",
       "      <td>-2.302585</td>\n",
       "    </tr>\n",
       "    <tr>\n",
       "      <th>1</th>\n",
       "      <td>190.0</td>\n",
       "      <td>1.0</td>\n",
       "      <td>3.0</td>\n",
       "      <td>3.0</td>\n",
       "      <td>5.0</td>\n",
       "      <td>1.0</td>\n",
       "      <td>20.0</td>\n",
       "      <td>4.0</td>\n",
       "      <td>1.0</td>\n",
       "      <td>0.0</td>\n",
       "      <td>5.247550</td>\n",
       "    </tr>\n",
       "    <tr>\n",
       "      <th>2</th>\n",
       "      <td>31.0</td>\n",
       "      <td>7.0</td>\n",
       "      <td>2.0</td>\n",
       "      <td>2.0</td>\n",
       "      <td>6.0</td>\n",
       "      <td>1.0</td>\n",
       "      <td>24.0</td>\n",
       "      <td>6.0</td>\n",
       "      <td>1.0</td>\n",
       "      <td>0.0</td>\n",
       "      <td>3.437208</td>\n",
       "    </tr>\n",
       "    <tr>\n",
       "      <th>3</th>\n",
       "      <td>83.0</td>\n",
       "      <td>4.0</td>\n",
       "      <td>3.0</td>\n",
       "      <td>4.0</td>\n",
       "      <td>5.0</td>\n",
       "      <td>1.0</td>\n",
       "      <td>28.0</td>\n",
       "      <td>6.0</td>\n",
       "      <td>1.0</td>\n",
       "      <td>0.0</td>\n",
       "      <td>4.420045</td>\n",
       "    </tr>\n",
       "    <tr>\n",
       "      <th>4</th>\n",
       "      <td>640.0</td>\n",
       "      <td>7.0</td>\n",
       "      <td>5.0</td>\n",
       "      <td>6.0</td>\n",
       "      <td>4.0</td>\n",
       "      <td>0.0</td>\n",
       "      <td>68.0</td>\n",
       "      <td>6.0</td>\n",
       "      <td>1.0</td>\n",
       "      <td>0.0</td>\n",
       "      <td>6.461624</td>\n",
       "    </tr>\n",
       "  </tbody>\n",
       "</table>\n",
       "</div>"
      ],
      "text/plain": [
       "   popul  TVnews  selfLR  ClinLR  DoleLR  PID   age  education  income  vote  \\\n",
       "0    0.0     7.0     7.0     1.0     6.0  6.0  36.0        3.0     1.0   1.0   \n",
       "1  190.0     1.0     3.0     3.0     5.0  1.0  20.0        4.0     1.0   0.0   \n",
       "2   31.0     7.0     2.0     2.0     6.0  1.0  24.0        6.0     1.0   0.0   \n",
       "3   83.0     4.0     3.0     4.0     5.0  1.0  28.0        6.0     1.0   0.0   \n",
       "4  640.0     7.0     5.0     6.0     4.0  0.0  68.0        6.0     1.0   0.0   \n",
       "\n",
       "   logpopul  \n",
       "0 -2.302585  \n",
       "1  5.247550  \n",
       "2  3.437208  \n",
       "3  4.420045  \n",
       "4  6.461624  "
      ]
     },
     "execution_count": 8,
     "metadata": {},
     "output_type": "execute_result"
    }
   ],
   "source": [
    "df_anes96 = df_anes96.rename(columns = {'educ': 'education'})\n",
    "df_anes96.head()"
   ]
  },
  {
   "cell_type": "markdown",
   "metadata": {},
   "source": [
    "The .rename() method allows you to modify index labels and/or column names. As you can see, we passed a dict to the columns parameter, with the original name as the key and the new name as the value. Importantly, we also set the inplace parameter to True, which modifies the actual DataFrame, not a copy of it."
   ]
  },
  {
   "cell_type": "markdown",
   "metadata": {},
   "source": [
    "Next, let's take a look at slicing dataframes. Before we used the .head() and .tail() method to get the first n or last n rows of a dataframe. Instead, use the [] operator to return the first 5 rows."
   ]
  },
  {
   "cell_type": "code",
   "execution_count": 9,
   "metadata": {},
   "outputs": [
    {
     "data": {
      "text/html": [
       "<div>\n",
       "<style scoped>\n",
       "    .dataframe tbody tr th:only-of-type {\n",
       "        vertical-align: middle;\n",
       "    }\n",
       "\n",
       "    .dataframe tbody tr th {\n",
       "        vertical-align: top;\n",
       "    }\n",
       "\n",
       "    .dataframe thead th {\n",
       "        text-align: right;\n",
       "    }\n",
       "</style>\n",
       "<table border=\"1\" class=\"dataframe\">\n",
       "  <thead>\n",
       "    <tr style=\"text-align: right;\">\n",
       "      <th></th>\n",
       "      <th>popul</th>\n",
       "      <th>TVnews</th>\n",
       "      <th>selfLR</th>\n",
       "      <th>ClinLR</th>\n",
       "      <th>DoleLR</th>\n",
       "      <th>PID</th>\n",
       "      <th>age</th>\n",
       "      <th>education</th>\n",
       "      <th>income</th>\n",
       "      <th>vote</th>\n",
       "      <th>logpopul</th>\n",
       "    </tr>\n",
       "  </thead>\n",
       "  <tbody>\n",
       "    <tr>\n",
       "      <th>0</th>\n",
       "      <td>0.0</td>\n",
       "      <td>7.0</td>\n",
       "      <td>7.0</td>\n",
       "      <td>1.0</td>\n",
       "      <td>6.0</td>\n",
       "      <td>6.0</td>\n",
       "      <td>36.0</td>\n",
       "      <td>3.0</td>\n",
       "      <td>1.0</td>\n",
       "      <td>1.0</td>\n",
       "      <td>-2.302585</td>\n",
       "    </tr>\n",
       "    <tr>\n",
       "      <th>1</th>\n",
       "      <td>190.0</td>\n",
       "      <td>1.0</td>\n",
       "      <td>3.0</td>\n",
       "      <td>3.0</td>\n",
       "      <td>5.0</td>\n",
       "      <td>1.0</td>\n",
       "      <td>20.0</td>\n",
       "      <td>4.0</td>\n",
       "      <td>1.0</td>\n",
       "      <td>0.0</td>\n",
       "      <td>5.247550</td>\n",
       "    </tr>\n",
       "    <tr>\n",
       "      <th>2</th>\n",
       "      <td>31.0</td>\n",
       "      <td>7.0</td>\n",
       "      <td>2.0</td>\n",
       "      <td>2.0</td>\n",
       "      <td>6.0</td>\n",
       "      <td>1.0</td>\n",
       "      <td>24.0</td>\n",
       "      <td>6.0</td>\n",
       "      <td>1.0</td>\n",
       "      <td>0.0</td>\n",
       "      <td>3.437208</td>\n",
       "    </tr>\n",
       "    <tr>\n",
       "      <th>3</th>\n",
       "      <td>83.0</td>\n",
       "      <td>4.0</td>\n",
       "      <td>3.0</td>\n",
       "      <td>4.0</td>\n",
       "      <td>5.0</td>\n",
       "      <td>1.0</td>\n",
       "      <td>28.0</td>\n",
       "      <td>6.0</td>\n",
       "      <td>1.0</td>\n",
       "      <td>0.0</td>\n",
       "      <td>4.420045</td>\n",
       "    </tr>\n",
       "    <tr>\n",
       "      <th>4</th>\n",
       "      <td>640.0</td>\n",
       "      <td>7.0</td>\n",
       "      <td>5.0</td>\n",
       "      <td>6.0</td>\n",
       "      <td>4.0</td>\n",
       "      <td>0.0</td>\n",
       "      <td>68.0</td>\n",
       "      <td>6.0</td>\n",
       "      <td>1.0</td>\n",
       "      <td>0.0</td>\n",
       "      <td>6.461624</td>\n",
       "    </tr>\n",
       "  </tbody>\n",
       "</table>\n",
       "</div>"
      ],
      "text/plain": [
       "   popul  TVnews  selfLR  ClinLR  DoleLR  PID   age  education  income  vote  \\\n",
       "0    0.0     7.0     7.0     1.0     6.0  6.0  36.0        3.0     1.0   1.0   \n",
       "1  190.0     1.0     3.0     3.0     5.0  1.0  20.0        4.0     1.0   0.0   \n",
       "2   31.0     7.0     2.0     2.0     6.0  1.0  24.0        6.0     1.0   0.0   \n",
       "3   83.0     4.0     3.0     4.0     5.0  1.0  28.0        6.0     1.0   0.0   \n",
       "4  640.0     7.0     5.0     6.0     4.0  0.0  68.0        6.0     1.0   0.0   \n",
       "\n",
       "   logpopul  \n",
       "0 -2.302585  \n",
       "1  5.247550  \n",
       "2  3.437208  \n",
       "3  4.420045  \n",
       "4  6.461624  "
      ]
     },
     "execution_count": 9,
     "metadata": {},
     "output_type": "execute_result"
    }
   ],
   "source": [
    "df_anes96[:5]"
   ]
  },
  {
   "cell_type": "markdown",
   "metadata": {},
   "source": [
    "There are a few other methods that we can use to index data too. In particular, let's use the [.loc](https://pandas.pydata.org/pandas-docs/stable/reference/api/pandas.DataFrame.loc.html) method. First, let's make a sample dataframe (credit to [Chris Fonnesbeck's tutorial](https://github.com/fonnesbeck/scipy2015_tutorial) for this example)."
   ]
  },
  {
   "cell_type": "code",
   "execution_count": 10,
   "metadata": {},
   "outputs": [],
   "source": [
    "bacteria = pd.DataFrame({'bacteria_counts': [632, 1638, 569, 115],\n",
    "                        'other_feature': [438, 833, 234, 298]},\n",
    "                       index = ['Firmicutes', 'Proteobacteria', 'Actinobacteria', 'Bacteroidetes'])"
   ]
  },
  {
   "cell_type": "markdown",
   "metadata": {},
   "source": [
    "Note that to create the dataframe we first passed in a dictionary to create the columns and values, and then separately passed in a list for the index that corresponds to the taxon for each bacterium. Let's take a look at what the dataset looks like."
   ]
  },
  {
   "cell_type": "code",
   "execution_count": 11,
   "metadata": {},
   "outputs": [
    {
     "data": {
      "text/html": [
       "<div>\n",
       "<style scoped>\n",
       "    .dataframe tbody tr th:only-of-type {\n",
       "        vertical-align: middle;\n",
       "    }\n",
       "\n",
       "    .dataframe tbody tr th {\n",
       "        vertical-align: top;\n",
       "    }\n",
       "\n",
       "    .dataframe thead th {\n",
       "        text-align: right;\n",
       "    }\n",
       "</style>\n",
       "<table border=\"1\" class=\"dataframe\">\n",
       "  <thead>\n",
       "    <tr style=\"text-align: right;\">\n",
       "      <th></th>\n",
       "      <th>bacteria_counts</th>\n",
       "      <th>other_feature</th>\n",
       "    </tr>\n",
       "  </thead>\n",
       "  <tbody>\n",
       "    <tr>\n",
       "      <th>Firmicutes</th>\n",
       "      <td>632</td>\n",
       "      <td>438</td>\n",
       "    </tr>\n",
       "    <tr>\n",
       "      <th>Proteobacteria</th>\n",
       "      <td>1638</td>\n",
       "      <td>833</td>\n",
       "    </tr>\n",
       "    <tr>\n",
       "      <th>Actinobacteria</th>\n",
       "      <td>569</td>\n",
       "      <td>234</td>\n",
       "    </tr>\n",
       "    <tr>\n",
       "      <th>Bacteroidetes</th>\n",
       "      <td>115</td>\n",
       "      <td>298</td>\n",
       "    </tr>\n",
       "  </tbody>\n",
       "</table>\n",
       "</div>"
      ],
      "text/plain": [
       "                bacteria_counts  other_feature\n",
       "Firmicutes                  632            438\n",
       "Proteobacteria             1638            833\n",
       "Actinobacteria              569            234\n",
       "Bacteroidetes               115            298"
      ]
     },
     "execution_count": 11,
     "metadata": {},
     "output_type": "execute_result"
    }
   ],
   "source": [
    "bacteria"
   ]
  },
  {
   "cell_type": "markdown",
   "metadata": {},
   "source": [
    "**Challenge**: Now, use the loc method to look at the row associated with \"Actinobacteria\"."
   ]
  },
  {
   "cell_type": "code",
   "execution_count": 12,
   "metadata": {},
   "outputs": [
    {
     "data": {
      "text/plain": [
       "bacteria_counts    569\n",
       "other_feature      234\n",
       "Name: Actinobacteria, dtype: int64"
      ]
     },
     "execution_count": 12,
     "metadata": {},
     "output_type": "execute_result"
    }
   ],
   "source": [
    "bacteria.loc['Actinobacteria']"
   ]
  },
  {
   "cell_type": "markdown",
   "metadata": {},
   "source": [
    "**Challenge**: Next, let's look at the [.iloc](https://pandas.pydata.org/pandas-docs/stable/reference/api/pandas.DataFrame.iloc.html) method. Using our original df_anes96 dataframe, try using .iloc to get the 2nd, 6th, 7th, and 10th rows. **Hint**: Remember, what number does Python start its indexes with?"
   ]
  },
  {
   "cell_type": "code",
   "execution_count": 13,
   "metadata": {},
   "outputs": [
    {
     "data": {
      "text/html": [
       "<div>\n",
       "<style scoped>\n",
       "    .dataframe tbody tr th:only-of-type {\n",
       "        vertical-align: middle;\n",
       "    }\n",
       "\n",
       "    .dataframe tbody tr th {\n",
       "        vertical-align: top;\n",
       "    }\n",
       "\n",
       "    .dataframe thead th {\n",
       "        text-align: right;\n",
       "    }\n",
       "</style>\n",
       "<table border=\"1\" class=\"dataframe\">\n",
       "  <thead>\n",
       "    <tr style=\"text-align: right;\">\n",
       "      <th></th>\n",
       "      <th>popul</th>\n",
       "      <th>TVnews</th>\n",
       "      <th>selfLR</th>\n",
       "      <th>ClinLR</th>\n",
       "      <th>DoleLR</th>\n",
       "      <th>PID</th>\n",
       "      <th>age</th>\n",
       "      <th>education</th>\n",
       "      <th>income</th>\n",
       "      <th>vote</th>\n",
       "      <th>logpopul</th>\n",
       "    </tr>\n",
       "  </thead>\n",
       "  <tbody>\n",
       "    <tr>\n",
       "      <th>1</th>\n",
       "      <td>190.0</td>\n",
       "      <td>1.0</td>\n",
       "      <td>3.0</td>\n",
       "      <td>3.0</td>\n",
       "      <td>5.0</td>\n",
       "      <td>1.0</td>\n",
       "      <td>20.0</td>\n",
       "      <td>4.0</td>\n",
       "      <td>1.0</td>\n",
       "      <td>0.0</td>\n",
       "      <td>5.247550</td>\n",
       "    </tr>\n",
       "    <tr>\n",
       "      <th>5</th>\n",
       "      <td>110.0</td>\n",
       "      <td>3.0</td>\n",
       "      <td>3.0</td>\n",
       "      <td>4.0</td>\n",
       "      <td>6.0</td>\n",
       "      <td>1.0</td>\n",
       "      <td>21.0</td>\n",
       "      <td>4.0</td>\n",
       "      <td>1.0</td>\n",
       "      <td>0.0</td>\n",
       "      <td>4.701389</td>\n",
       "    </tr>\n",
       "    <tr>\n",
       "      <th>6</th>\n",
       "      <td>100.0</td>\n",
       "      <td>7.0</td>\n",
       "      <td>5.0</td>\n",
       "      <td>6.0</td>\n",
       "      <td>4.0</td>\n",
       "      <td>1.0</td>\n",
       "      <td>77.0</td>\n",
       "      <td>4.0</td>\n",
       "      <td>1.0</td>\n",
       "      <td>0.0</td>\n",
       "      <td>4.606170</td>\n",
       "    </tr>\n",
       "    <tr>\n",
       "      <th>9</th>\n",
       "      <td>2800.0</td>\n",
       "      <td>0.0</td>\n",
       "      <td>3.0</td>\n",
       "      <td>3.0</td>\n",
       "      <td>7.0</td>\n",
       "      <td>0.0</td>\n",
       "      <td>39.0</td>\n",
       "      <td>3.0</td>\n",
       "      <td>1.0</td>\n",
       "      <td>0.0</td>\n",
       "      <td>7.937410</td>\n",
       "    </tr>\n",
       "  </tbody>\n",
       "</table>\n",
       "</div>"
      ],
      "text/plain": [
       "    popul  TVnews  selfLR  ClinLR  DoleLR  PID   age  education  income  vote  \\\n",
       "1   190.0     1.0     3.0     3.0     5.0  1.0  20.0        4.0     1.0   0.0   \n",
       "5   110.0     3.0     3.0     4.0     6.0  1.0  21.0        4.0     1.0   0.0   \n",
       "6   100.0     7.0     5.0     6.0     4.0  1.0  77.0        4.0     1.0   0.0   \n",
       "9  2800.0     0.0     3.0     3.0     7.0  0.0  39.0        3.0     1.0   0.0   \n",
       "\n",
       "   logpopul  \n",
       "1  5.247550  \n",
       "5  4.701389  \n",
       "6  4.606170  \n",
       "9  7.937410  "
      ]
     },
     "execution_count": 13,
     "metadata": {},
     "output_type": "execute_result"
    }
   ],
   "source": [
    "df_anes96.iloc[[1, 5, 6, 9]]"
   ]
  },
  {
   "cell_type": "markdown",
   "metadata": {},
   "source": [
    "**Challenge**: Now try to use `.iloc` to select every 5 rows between the 25th index and 50th index. **Hint**: Try looking at how to [slice and stride](https://towardsdatascience.com/indexing-best-practices-in-pandas-series-e455c7d2417) in Python."
   ]
  },
  {
   "cell_type": "code",
   "execution_count": 14,
   "metadata": {},
   "outputs": [
    {
     "data": {
      "text/html": [
       "<div>\n",
       "<style scoped>\n",
       "    .dataframe tbody tr th:only-of-type {\n",
       "        vertical-align: middle;\n",
       "    }\n",
       "\n",
       "    .dataframe tbody tr th {\n",
       "        vertical-align: top;\n",
       "    }\n",
       "\n",
       "    .dataframe thead th {\n",
       "        text-align: right;\n",
       "    }\n",
       "</style>\n",
       "<table border=\"1\" class=\"dataframe\">\n",
       "  <thead>\n",
       "    <tr style=\"text-align: right;\">\n",
       "      <th></th>\n",
       "      <th>popul</th>\n",
       "      <th>TVnews</th>\n",
       "      <th>selfLR</th>\n",
       "      <th>ClinLR</th>\n",
       "      <th>DoleLR</th>\n",
       "      <th>PID</th>\n",
       "      <th>age</th>\n",
       "      <th>education</th>\n",
       "      <th>income</th>\n",
       "      <th>vote</th>\n",
       "      <th>logpopul</th>\n",
       "    </tr>\n",
       "  </thead>\n",
       "  <tbody>\n",
       "    <tr>\n",
       "      <th>25</th>\n",
       "      <td>0.0</td>\n",
       "      <td>2.0</td>\n",
       "      <td>4.0</td>\n",
       "      <td>3.0</td>\n",
       "      <td>6.0</td>\n",
       "      <td>1.0</td>\n",
       "      <td>21.0</td>\n",
       "      <td>4.0</td>\n",
       "      <td>2.0</td>\n",
       "      <td>0.0</td>\n",
       "      <td>-2.302585</td>\n",
       "    </tr>\n",
       "    <tr>\n",
       "      <th>30</th>\n",
       "      <td>350.0</td>\n",
       "      <td>0.0</td>\n",
       "      <td>3.0</td>\n",
       "      <td>4.0</td>\n",
       "      <td>7.0</td>\n",
       "      <td>2.0</td>\n",
       "      <td>26.0</td>\n",
       "      <td>2.0</td>\n",
       "      <td>2.0</td>\n",
       "      <td>0.0</td>\n",
       "      <td>5.858219</td>\n",
       "    </tr>\n",
       "    <tr>\n",
       "      <th>35</th>\n",
       "      <td>0.0</td>\n",
       "      <td>7.0</td>\n",
       "      <td>3.0</td>\n",
       "      <td>4.0</td>\n",
       "      <td>6.0</td>\n",
       "      <td>0.0</td>\n",
       "      <td>57.0</td>\n",
       "      <td>3.0</td>\n",
       "      <td>3.0</td>\n",
       "      <td>0.0</td>\n",
       "      <td>-2.302585</td>\n",
       "    </tr>\n",
       "    <tr>\n",
       "      <th>40</th>\n",
       "      <td>180.0</td>\n",
       "      <td>6.0</td>\n",
       "      <td>5.0</td>\n",
       "      <td>5.0</td>\n",
       "      <td>5.0</td>\n",
       "      <td>0.0</td>\n",
       "      <td>51.0</td>\n",
       "      <td>2.0</td>\n",
       "      <td>3.0</td>\n",
       "      <td>0.0</td>\n",
       "      <td>5.193512</td>\n",
       "    </tr>\n",
       "    <tr>\n",
       "      <th>45</th>\n",
       "      <td>11.0</td>\n",
       "      <td>3.0</td>\n",
       "      <td>6.0</td>\n",
       "      <td>6.0</td>\n",
       "      <td>3.0</td>\n",
       "      <td>2.0</td>\n",
       "      <td>76.0</td>\n",
       "      <td>6.0</td>\n",
       "      <td>3.0</td>\n",
       "      <td>0.0</td>\n",
       "      <td>2.406945</td>\n",
       "    </tr>\n",
       "  </tbody>\n",
       "</table>\n",
       "</div>"
      ],
      "text/plain": [
       "    popul  TVnews  selfLR  ClinLR  DoleLR  PID   age  education  income  vote  \\\n",
       "25    0.0     2.0     4.0     3.0     6.0  1.0  21.0        4.0     2.0   0.0   \n",
       "30  350.0     0.0     3.0     4.0     7.0  2.0  26.0        2.0     2.0   0.0   \n",
       "35    0.0     7.0     3.0     4.0     6.0  0.0  57.0        3.0     3.0   0.0   \n",
       "40  180.0     6.0     5.0     5.0     5.0  0.0  51.0        2.0     3.0   0.0   \n",
       "45   11.0     3.0     6.0     6.0     3.0  2.0  76.0        6.0     3.0   0.0   \n",
       "\n",
       "    logpopul  \n",
       "25 -2.302585  \n",
       "30  5.858219  \n",
       "35 -2.302585  \n",
       "40  5.193512  \n",
       "45  2.406945  "
      ]
     },
     "execution_count": 14,
     "metadata": {},
     "output_type": "execute_result"
    }
   ],
   "source": [
    "df_anes96.iloc[25:50:5]"
   ]
  },
  {
   "cell_type": "markdown",
   "metadata": {},
   "source": [
    "## Calculations"
   ]
  },
  {
   "cell_type": "markdown",
   "metadata": {},
   "source": [
    "Next, let's look at some common calculations you might make with real-life datasets. First, try to use the [`.unique()`](https://pandas.pydata.org/pandas-docs/stable/reference/api/pandas.unique.html) to find the unique values in TVnews. What do you find?"
   ]
  },
  {
   "cell_type": "code",
   "execution_count": 15,
   "metadata": {},
   "outputs": [
    {
     "data": {
      "text/plain": [
       "array([7., 1., 4., 3., 0., 5., 2., 6.])"
      ]
     },
     "execution_count": 15,
     "metadata": {},
     "output_type": "execute_result"
    }
   ],
   "source": [
    "df_anes96['TVnews'].unique()"
   ]
  },
  {
   "cell_type": "markdown",
   "metadata": {},
   "source": [
    "**Answer**: TVnews is definitely discrete as it seems to vary from 0-7 by increments of 1."
   ]
  },
  {
   "cell_type": "markdown",
   "metadata": {},
   "source": [
    "How would we get the number of unique values? Try using [`.nunique()`](https://pandas.pydata.org/pandas-docs/stable/reference/api/pandas.DataFrame.nunique.html) to find the number of unique values in TVnews!"
   ]
  },
  {
   "cell_type": "code",
   "execution_count": 16,
   "metadata": {},
   "outputs": [
    {
     "data": {
      "text/plain": [
       "8"
      ]
     },
     "execution_count": 16,
     "metadata": {},
     "output_type": "execute_result"
    }
   ],
   "source": [
    "df_anes96['TVnews'].nunique()"
   ]
  },
  {
   "cell_type": "markdown",
   "metadata": {},
   "source": [
    "**Answer**: It looks like there are 8 unique values."
   ]
  },
  {
   "cell_type": "markdown",
   "metadata": {},
   "source": [
    "Next, try to find the [`.sum()`](https://pandas.pydata.org/pandas-docs/stable/reference/api/pandas.DataFrame.sum.html) of age and [`.mean()`](https://pandas.pydata.org/pandas-docs/stable/reference/api/pandas.DataFrame.mean.html) age in the df_anes96 dataset."
   ]
  },
  {
   "cell_type": "code",
   "execution_count": 17,
   "metadata": {},
   "outputs": [
    {
     "name": "stdout",
     "output_type": "stream",
     "text": [
      "sum of age is 44409.0\n",
      "mean of age is 47.043432203389834\n"
     ]
    }
   ],
   "source": [
    "print('sum of age is', df_anes96['age'].sum())\n",
    "print('mean of age is', df_anes96['age'].mean())"
   ]
  },
  {
   "cell_type": "markdown",
   "metadata": {},
   "source": [
    "Sometimes we want to explore certain relationships between two variables in our dataset. \n",
    "\n",
    "**Challenge**: Try to use the [`.groupby()`](https://pandas.pydata.org/pandas-docs/stable/reference/api/pandas.DataFrame.groupby.html), [`.sum()`](https://pandas.pydata.org/pandas-docs/stable/reference/api/pandas.DataFrame.sum.html) and [`.count()`](https://pandas.pydata.org/pandas-docs/stable/reference/api/pandas.DataFrame.count.html) methods to group the observations by education level, and calculate the proportion of the vote that went to Bob Dole by education level. \n",
    "\n",
    "**Hint**: In the vote feature, a \"0\" denotes a vote for Clinton and a \"1\" denotes a vote for Dole. Divide the `sum` of the vote by the `count` of the vote!"
   ]
  },
  {
   "cell_type": "code",
   "execution_count": 18,
   "metadata": {},
   "outputs": [
    {
     "data": {
      "text/plain": [
       "education\n",
       "1.0    0.230769\n",
       "2.0    0.269231\n",
       "3.0    0.383065\n",
       "4.0    0.433155\n",
       "5.0    0.411111\n",
       "6.0    0.475771\n",
       "7.0    0.433071\n",
       "Name: vote, dtype: float64"
      ]
     },
     "execution_count": 18,
     "metadata": {},
     "output_type": "execute_result"
    }
   ],
   "source": [
    "df_anes96.groupby('education')['vote'].sum() / df_anes96.groupby('education')['vote'].count()"
   ]
  },
  {
   "cell_type": "markdown",
   "metadata": {},
   "source": [
    "## Visualization"
   ]
  },
  {
   "cell_type": "markdown",
   "metadata": {},
   "source": [
    "Another key part of data science is using visualizations to explore your data and present results. Python provides several powerful tools for creating visualizations. In this course, we will mainly use [matplotlib](https://matplotlib.org/) and [seaborn](https://seaborn.pydata.org/introduction.html#:~:text=Seaborn%20is%20a%20library%20for,examining%20relationships%20between%20multiple%20variables). Matplotlib is a popular visualization library, and seaborn is built on top of it and includes some integration with pandas. There are other options as well. For those of you coming from R, you might want to explore [ggplot](http://ggplot.yhathq.com/), [Bokeh](https://docs.bokeh.org/en/latest/), and [plotnine](https://plotnine.readthedocs.io/en/stable/), which are all built on top of the \"grammar of graphics\" that you might be familiar with."
   ]
  },
  {
   "cell_type": "markdown",
   "metadata": {},
   "source": [
    "Let's start with a simple histogram. Use the [`.hist()`](https://matplotlib.org/3.3.1/api/_as_gen/matplotlib.pyplot.hist.html) method to plot a simple histogram for 'age' on top of the df_anes96 dataframe."
   ]
  },
  {
   "cell_type": "code",
   "execution_count": 19,
   "metadata": {},
   "outputs": [
    {
     "data": {
      "text/plain": [
       "array([[<AxesSubplot:title={'center':'age'}>]], dtype=object)"
      ]
     },
     "execution_count": 19,
     "metadata": {},
     "output_type": "execute_result"
    },
    {
     "data": {
      "image/png": "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\n",
      "text/plain": [
       "<Figure size 432x288 with 1 Axes>"
      ]
     },
     "metadata": {
      "needs_background": "light"
     },
     "output_type": "display_data"
    }
   ],
   "source": [
    "df_anes96.hist('age')"
   ]
  },
  {
   "cell_type": "markdown",
   "metadata": {},
   "source": [
    "**Question**: Notice that the `.hist()` method has some additional arguments that you can supply beyond just the variable that is being plotted. Try using the bins argument to adjust the binwidths. What happens if you use 10? What about 1?"
   ]
  },
  {
   "cell_type": "code",
   "execution_count": 20,
   "metadata": {},
   "outputs": [
    {
     "data": {
      "text/plain": [
       "array([[<AxesSubplot:title={'center':'age'}>]], dtype=object)"
      ]
     },
     "execution_count": 20,
     "metadata": {},
     "output_type": "execute_result"
    },
    {
     "data": {
      "image/png": "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\n",
      "text/plain": [
       "<Figure size 432x288 with 1 Axes>"
      ]
     },
     "metadata": {
      "needs_background": "light"
     },
     "output_type": "display_data"
    }
   ],
   "source": [
    "df_anes96.hist('age', bins = range(0, 100, 10))"
   ]
  },
  {
   "cell_type": "code",
   "execution_count": 21,
   "metadata": {},
   "outputs": [
    {
     "data": {
      "text/plain": [
       "array([[<AxesSubplot:title={'center':'age'}>]], dtype=object)"
      ]
     },
     "execution_count": 21,
     "metadata": {},
     "output_type": "execute_result"
    },
    {
     "data": {
      "image/png": "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\n",
      "text/plain": [
       "<Figure size 432x288 with 1 Axes>"
      ]
     },
     "metadata": {
      "needs_background": "light"
     },
     "output_type": "display_data"
    }
   ],
   "source": [
    "df_anes96.hist('age', bins = range(0, 100, 1))"
   ]
  },
  {
   "cell_type": "markdown",
   "metadata": {},
   "source": [
    "**Answer**: The bin widths can change the shape of the histogram substantially. This is actually an example of bias-variance tradeoff, a concept that we will explore in depth later on. Fewer bins smooth the data, but at the cost of losing granularity. The choice of bin width is essentially a choice of how much granularity and smoothness to trade off when visualizing continuous data."
   ]
  },
  {
   "cell_type": "markdown",
   "metadata": {},
   "source": [
    "What if we want to add some info to the plot? Instead of calling `.hist()` directly on the pandas dataframe, try using plt.hist()."
   ]
  },
  {
   "cell_type": "code",
   "execution_count": 22,
   "metadata": {},
   "outputs": [
    {
     "data": {
      "text/plain": [
       "(array([ 79., 134., 183., 143., 111., 105.,  74.,  66.,  29.,  20.]),\n",
       " array([19. , 26.2, 33.4, 40.6, 47.8, 55. , 62.2, 69.4, 76.6, 83.8, 91. ]),\n",
       " <BarContainer object of 10 artists>)"
      ]
     },
     "execution_count": 22,
     "metadata": {},
     "output_type": "execute_result"
    },
    {
     "data": {
      "image/png": "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\n",
      "text/plain": [
       "<Figure size 432x288 with 1 Axes>"
      ]
     },
     "metadata": {
      "needs_background": "light"
     },
     "output_type": "display_data"
    }
   ],
   "source": [
    "plt.hist(df_anes96['age'])"
   ]
  },
  {
   "cell_type": "markdown",
   "metadata": {},
   "source": [
    "We can call functions in the plt module multiple times within a single cell and those functions will all work on, and modify, the current figure associated with the current cell. This is because pyplot (or plt) keeps an internal variable for the current figure which is unique to each cell plt is used in. Try adding a [`title`](https://matplotlib.org/3.1.1/api/_as_gen/matplotlib.pyplot.title.html), [`xlabel`](https://matplotlib.org/3.1.1/api/_as_gen/matplotlib.pyplot.xlabel.html), and [`ylabel`](https://matplotlib.org/3.1.1/api/_as_gen/matplotlib.pyplot.ylabel.html) to the histogram."
   ]
  },
  {
   "cell_type": "code",
   "execution_count": 23,
   "metadata": {},
   "outputs": [
    {
     "data": {
      "image/png": "iVBORw0KGgoAAAANSUhEUgAAAYUAAAEWCAYAAACJ0YulAAAAOXRFWHRTb2Z0d2FyZQBNYXRwbG90bGliIHZlcnNpb24zLjUuMSwgaHR0cHM6Ly9tYXRwbG90bGliLm9yZy/YYfK9AAAACXBIWXMAAAsTAAALEwEAmpwYAAAfr0lEQVR4nO3de5xVdb3/8ddbwbyBiiAHQUTLvOeNTLOjFVYaKugJ01NKZYc6P8tLZkJl6jGPdPOYdSw5WVKaRmZqZl4iL10lMDUQSVNEFAEtATEv5Of3x/c7i804M6yZPfsyM+/n47Efe++11l7rs/fM3p/1vazvVxGBmZkZwAaNDsDMzJqHk4KZmRWcFMzMrOCkYGZmBScFMzMrOCmYmVnBSaGXkPRtSWd3075GSnpe0ob5+Z2SPtod+877+4Wkid21v04c94uSnpH0dL2PXVajPhuzFk4KPYCkhZL+IWmVpOck/U7SxyUVf7+I+HhEnF9yX4d2tE1ELIqIzSPin90Q+7mSrmy1/8MjYnq1++5kHNsBZwC7RcS/dLDdDpJelXRp/aJbqzs+m5zE/y7pda2WXyEpJO1fsewNkqLVa1/MJwUtt59VrP+spMfy8sWSftRBHLtK+pWkFZIekXR0q/WbSro0J+oVku5ez3t6MX8HVkqaI2ly6/e4ns8lJL2h7PZ9lZNCz3FkRAwAtgemAmcBl3f3QST16+59NontgWcjYtl6tjsR+DtwXGd+cJqFpFHAvwIBHNXGJn8Dvrie3XwinxS03I7M+54InAAcGhGbA6OBme3E0Q+4AbgJGARMAq6U9MaKzabldbvm+9NLxDUAGEZK8McBN0vSel5nnRERvjX5DVhI+iJWLtsfeBXYIz+/AvhifjyY9GV8jvQj8GvSCcAP8mv+ATwPfAYYRfoBOQlYBNxdsaxf3t+dwIXALGAF6cs+KK97O7C4rXiBw4CXgVfy8e6v2N9H8+MNgM8DjwPLgO8DW+R1LXFMzLE9A3yug89pi/z65Xl/n8/7PzS/51dzHFd0sI+/Av8JLAXe12rdu4EF+TO4FLir5X3k9R8B5pOSyq3A9nm5gP/J728F8EDL362N41d+Nh8CfgN8Ne/zMeDw9fyvfAH4LXARcFOrdVfk5U8Dh+RlbwCireO3se9vAheX/J/dI3/Wqlh2G3B+frwzsBIYWHJ/r4kLGAm8ABxR8Z34Pen/fkmOd6O87u78v7Q6x/V+YCvS92R5/nxvAkY0+vve6JtLCj1URMwCFpPOCls7I68bAgwFPpteEieQflyPjHQG+OWK1xxCOmN7TzuHPJH0o7ctsAa4pESMtwD/DfwoH2+vNjb7UL69A9gR2Jz0Za70NtKPyBjgC5J2beeQ3yAlhh3z+zkR+HBE/BI4HHgqx/Ghtl4s6V+BEcA1wIz8+pZ1g4FrgSnA1qTk8NaK9eNJn/MxpM/918DVefW7gYOBNwJbkn6Qnm3nPbT2lnyswcCXgcvXc2Z8InBVvr1H0tBW618g/U0uKHn8Sn8ATpR0pqTRLW1O7WgrRpGSBaT39ThwXq4++rOkf+tMMBGxCJjN2u/AP0mljcHAgaT/l/+Xtz04b7NX/h/4EemE4XukUuRI0olD6/+9PsdJoWd7ilTsbu0VUhF7+4h4JSJ+Hfl0qQPnRsTqiPhHO+t/EBFzI2I1cDZw7Hp+FMr6AHBRRDwaEc+TfnSPa1WNdV5E/CMi7gfuB16TXHIs7wemRMSqiFgIfI1U3VHWROAXEfF34IfA4ZK2yeveC8yLiOsioiUpVjZYfwy4MCLm5/X/DewtaXvS32MAsAvpzHl+RCwpGdPjEfF/kdp3ppP+rq1/6AGQ9DbSD9yMiJhDKvX8exubXgaMlHR4O8e8JLddtdzOB4iIK4FPkk4c7gKWSZrczj4eIpWMzpTUX9K7SYl607x+BClBrCCdaHwCmN5Bwm9P8R2IiDkR8YeIWJP//pflY7YpIp6NiJ9ExAsRsYqUKNvdvq9wUujZhpOqh1r7CvAIcJukRzv44lZ6ohPrHwf6k87IqrVt3l/lvvux7g9f5Y/vC6TSRGuDgY3a2NfwMkFI2gSYQDrDJiJ+TypVtfyobkvFZ5CT7OKKXWwPfL3lh5T0dxEwPCJ+RToD/V9gqaRpkgaWiYuK9x4RL+SHbb1/SEnttoh4Jj//YV62joh4CTg/39o6oz8lIrasuJ1d8dqrIuJQUonn48B/SXpN6TIiXgHGA2PzeziDVPpq+cz+QUqWX4yIlyPiLuAOUqmqM4rvgKQ3SrpJ0tOSVpISc7v/o7mh+zJJj+ft7wa27KaTnR7LSaGHkvRm0hfiN63X5TPlMyJiR+BI4FOSxrSsbmeX6ytJbFfxeCTpC/0MqY625eyv5Yx9SCf2+xTpB7Vy32tIdfqd8UyOqfW+niz5+qOBgcCl+UfladLn21KFtIR0dgtArsIZUfH6J4CPtfox3SQifgcQEZdExH7A7qRqpDM7+f46lJPascAhFfGfDuwlqa1qu++RqtqObmPdeuUS6I/J7SPtbPNARBwSEVtHxHtI1Xqz8uoHunLcSrlH2X6kqjqAb5FKKDtFxEBSdV5HVW1nkKol35K3b6li6tMN104KPYykgZKOINV7XxkRf25jmyNyV0ORGvP+mW+Qfmx37MKhPyhpN0mbAv8FXJurNP4CbCxprKT+pMbdyl47S4FRqug+28rVwOm5K+jmrG2DWNOZ4HIsM4ALJA3I1TafAq7s+JWFicB3gT2BvfPtIFIV0J7Az4E9JY3PVVsnA5VdW78NTJG0O4CkLSRNyI/fLOkt+fNZDbzI2r9Hdxmf97lbRfy7kn4wT2y9cf58zyX1YitF0ofy33mApA1y9dPuwD3tbP8mSRvnM/JPk6q+rsir7yaVxKZI6ifpIFKnhVtLxLGppENIHR5mATfnVQNI/+/PS9qF1GGgUuv//QGkEstzkgYB56zv2H2Bk0LP8TNJq0hnpJ8j9SL5cDvb7gT8ktTL4vfApRFxZ153IfD5XM3x6U4c/wekL/TTwMbAKQARsYLUmPcd0ln5atatVvlxvn9W0r1t7Pe7ed93k3rXvEiqt+6KT+bjP0oqQf0w779DkoaTGiUvjoinK25zgFuAiblKZgKpsfdZ0o/vbOAlgIj4KfAl4JpcFTGX1LgNqQTyf6QeLo/n13+1i++xPROB70W6xqR4D6Rqqw+009X4alIJqLVvat3rFObk5StJZ9+LSD18vgz8Z0S8prSanZD3v4z0+b4rV121VC+NI7XVrCB9PidGxEMdvMdv5u/AUuBi4CfAYRHxal7/aVJ136q8v9bXUJxLard4TtKxeR+bkEqZfyD9rfs8rb/90cxayyWfxcAHIuKORsdj1l1cUjArSdJ7JG2ZL2prqa/+Q4PDMutWTgpm5R1I6ub5DKkBf3wHXXjNeiRXH5mZWcElBTMzK/Towc8GDx4co0aNanQYZmY9ypw5c56JiCFtrevRSWHUqFHMnj270WGYmfUokh5vb52rj8zMrOCkYGZmBScFMzMrOCmYmVnBScHMzApOCmZmVnBSMDOzgpOCmZkVapYUJH1X0jJJcyuWDZJ0u6SH8/1WFeumSHpE0oK2pvczM7Paq+UVzVeQJvj4fsWyycDMiJia5w2eDJwlaTfgONIsTtsCv5T0xjybljWJUZN/3uXXLpw6thsjMbNaqVlJISLu5rWTyo8DpufH00lTCLYsvyYiXoqIx0iTzu9fq9jMzKxt9W5TGBoRSwDy/TZ5+XDSNJMtFudlryFpkqTZkmYvX768psGamfU1zdLQrDaWtTnRQ0RMi4jRETF6yJA2B/kzM7MuqndSWCppGEC+X5aXLwa2q9huBPBUnWMzM+vz6p0UbgQm5scTgRsqlh8n6XWSdgB2AmbVOTYzsz6vZr2PJF0NvB0YLGkxcA4wFZgh6SRgETABICLmSZoBPAisAU52zyMzs/qrWVKIiOPbWTWmne0vAC6oVTxmZrZ+zdLQbGZmTcBJwczMCk4KZmZWcFIwM7OCk4KZmRWcFMzMrOCkYGZmBScFMzMrOCmYmVnBScHMzApOCmZmVnBSMDOzgpOCmZkVnBTMzKzgpGBmZgUnBTMzK9Rskh2rjVGTf97l1y6cOrYbIzGz3sglBTMzKzgpmJlZwUnBzMwKTgpmZlZwUjAzs4J7H1lduNeUWc/gkoKZmRWcFMzMrOCkYGZmBScFMzMrOCmYmVnBScHMzApOCmZmVnBSMDOzgi9e60OquYDMzPqG9ZYUJE2QNCA//ryk6yTtW81BJZ0uaZ6kuZKulrSxpEGSbpf0cL7fqppjmJlZ55WpPjo7IlZJehvwHmA68K2uHlDScOAUYHRE7AFsCBwHTAZmRsROwMz83MzM6qhMUvhnvh8LfCsibgA2qvK4/YBNJPUDNgWeAsaREg75fnyVxzAzs04qkxSelHQZcCxws6TXlXxdmyLiSeCrwCJgCbAiIm4DhkbEkrzNEmCbtl4vaZKk2ZJmL1++vKthmJlZG8r8uB8L3AocFhHPAYOAM7t6wNxWMA7YAdgW2EzSB8u+PiKmRcToiBg9ZMiQroZhZmZtKJMULouI6yLiYSjO4k+o4piHAo9FxPKIeAW4DngrsFTSMIB8v6yKY5iZWReUSQq7Vz6RtCGwXxXHXAQcIGlTSQLGAPOBG4GJeZuJwA1VHMPMzLqg3esUJE0BPktqEF7Zshh4GZjW1QNGxD2SrgXuBdYAf8r72xyYIekkUuKY0NVjmJlZ17SbFCLiQuBCSRdGxJTuPGhEnAOc02rxS6RSg5mZNch6r2iOiCn52oLtK7ePiLtrGZiZmdXfepOCpKmki8seZO01CwE4KZiZ9TJlxj46Gtg5Il6qdTBmZtZYZXofPQr0r3UgZmbWeGVKCi8A90maSWoMBiAiTqlZVGZm1hBlksKN+WZmZr1cmd5H0yVtAoyMiAV1iMms21Q7h8TCqWO7KRKznqHMfApHAvcBt+Tne0tyycHMrBcq09B8LrA/8BxARNxHGszOzMx6mTJJYU1ErGi1LGoRjJmZNVaZhua5kv4d2FDSTqRZ035X27DMzKwRypQUPkkaKfUl4GpgJXBaDWMyM7MGKdP76AXgc/lmZma9WEdDZ/+MDtoOIuKomkRkZmYN01FJ4av5/hjgX4Ar8/PjgYU1jMnMzBqko/kU7gKQdH5EHFyx6meSPEKqmVkvVKaheYikHVueSNoBGFK7kMzMrFHKdEk9HbhT0qP5+SjgYzWLyMzMGqZM76Nb8vUJu+RFD3luBTOz3qlMSQFgP1IJoR+wlyQi4vs1i8rMzBqizHScPwBeTxoUr3I6TicFM7NepkxJYTSwW0R4vCMzs16uTO+juaTrFMzMrJcrU1IYDDwoaRbrTsfpK5rNzHqZMknh3FoHYWZmzaFMl9S7JA0F3pwXzYqIZbUNy6znq2YqUE8Dao1SZjrOY4FZwATgWOAeSe+rdWBmZlZ/ZaqPPge8uaV0IGkI8Evg2loGZmZm9Vem99EGraqLni35OjMz62HKlBRukXQradY1gPcDN9cuJDMza5QyDc1nSjoGeBsgYFpE/LTmkZmZWd2VHfvod6QhLl4F/li7cMzMrJHK9D76KKn30dHA+4A/SPpINQeVtKWkayU9JGm+pAMlDZJ0u6SH8/1W1RzDzMw6r0yD8ZnAPhHxoYiYSBox9awqj/t14JaI2AXYC5gPTAZmRsROwMz83MzM6qhMUlgMrKp4vgp4oqsHlDQQOBi4HCAiXo6I54BxwPS82XRgfFePYWZmXVOmTeFJ0gVrN5CGzB4HzJL0KYCIuKiTx9wRWA58T9JewBzgVGBoRCzJ+1wiaZu2XixpEjAJYOTIkZ08tJmZdaRMSeGvwPWkhABwA7AEGJBvndUP2Bf4VkTsA6ymE1VFETEtIkZHxOghQzxVtJlZdyrTJfW8lseSNgA2j4iVVRxzMbA4Iu7Jz68lJYWlkoblUsIwwOMrmZnVWZneRz+UNFDSZsCDwAJJZ3b1gBHxNPCEpJ3zojF5vzcCE/OyiaQSiZmZ1VGZNoXdImKlpA+QrmQ+i9QO8JUqjvtJ4CpJGwGPAh8mJagZkk4CFpEG4DMzszoqkxT6S+pP6g30zYh4RVJVU3NGxH2kaT5bG1PNfs3MrDplksJlwELgfuBuSdsD1bQpmHVKNfMSmFnnlGlovgS4pGLR45LeUbuQzMysUco0NA+VdLmkX+Tnu7G2QdjMzHqRMtcpXAHcCmybn/8FOK1G8ZiZWQOVSQqDI2IGaYRUImINacRUMzPrZcokhdWStiZf0SzpAGBFTaMyM7OGKNP76FOkC8teL+m3wBDSENpmZtbLlOl9dK+kQ4CdSTOvLQD2r3VgZmZWf+0mBUkbAscCw4FfRMQ8SUcA04BNgH3qE6KZmdVLRyWFy4HtSLOufUPS48ABwJSIuL4OsZmZWZ11lBRGA2+KiFclbQw8A7whD2hnZma9UEe9j16OiJZuqC8Cf3FCMDPr3ToqKewi6YH8WKTeRw/kxxERb6p5dGZmVlcdJYVd6xaFmZk1hXaTQkQ8Xs9AzMys8cpc0WxmZn2Ek4KZmRXaTQqSZub7L9UvHDMza6SOGpqH5eEtjpJ0DanXUSEi7q1pZE2umtnAFk4d242RmJl1n46SwheAycAI4KJW6wJ4Z62CMjOzxuio99G1wLWSzo6I8+sYk5mZNUiZUVLPl3QUcHBedGdE3FTbsMzMrBHWmxQkXUgaKvuqvOhUSQdFxJSaRmZmdVdNWxm4vaw3KDPJzlhg75ZxkCRNB/4EOCmYmfUyZa9T2LLi8RY1iMPMzJpAmZLChcCfJN1B6pZ6MC4lVKXaIrqZWa2UaWi+WtKdwJtJSeEsD6FtZtY7lSkpEBFLgBtrHIuZmTWYxz4yM7OCk4KZmRU6TAqSNpA0t17BmJlZY3WYFPK1CfdLGlmneMzMrIHKNDQPA+ZJmgWsblkYEUdVc2BJGwKzgScj4ghJg4AfAaOAhcCxEfH3ao5hZmadUyYpnFejY58KzAcG5ueTgZkRMVXS5Pz8rBod28zM2rDehuaIuIt05t4/P/4jUNVcCpJGkIbP+E7F4nHA9Px4OjC+mmOYmVnnlRkQ7z+AScAg4PXAcODbwJgqjnsx8BlgQMWyofl6CCJiiaRt2olnUo6HkSPd1GG9kydxskYp0yX1ZOAgYCVARDwMtPmDXYakI4BlETGnK6+PiGkRMToiRg8ZMqSrYZiZWRvKtCm8FBEvS2k2Tkn9SDOvddVBpCk+3wtsDAyUdCWwVNKwXEoYBiyr4hhmZtYFZUoKd0n6LLCJpHcBPwZ+1tUDRsSUiBgREaOA44BfRcQHScNoTMybTQRu6OoxzMysa8qUFCYDJwF/Bj4G3My6DcTdZSowQ9JJwCJgQg2OYWZNyu0ozaHMKKmv5ol17iFVGy2IiGqqjyr3fSdwZ378LNU1XpuZWZXK9D4aS+pt9FfS0Nk7SPpYRPyi1sGZNZrnvrC+pkz10deAd0TEIwCSXg/8HHBSMDPrZco0NC9rSQjZo7hnkJlZr9RuSUHSMfnhPEk3AzNIbQoTSFc1m5lZL9NR9dGRFY+XAofkx8uBrWoWkZmZNUy7SSEiPlzPQMzMrPHK9D7aAfgkaUjrYvtqh842M7PmU6b30fXA5aSrmF+taTRmZtZQZZLCixFxSc0jMTOzhiuTFL4u6RzgNuClloURUdWcCmZm1nzKJIU9gROAd7K2+ijyczMz60XKJIWjgR0j4uVaB2NmZo1VJincD2xJL7yK2ePamJmtq0xSGAo8JOmPrNum4C6pZma9TJmkcE7NozAzs6ZQZj6Fu+oRiJmZNV6ZK5pXsXZO5o2A/sDqiBhYy8DMzKz+ypQUBlQ+lzQe2L9WAZmZWeOUaVNYR0RcL2lyLYIxs+o1slede/T1fGWqj46peLoBMJq11UlmZtaLlCkpVM6rsAZYCIyrSTRmZtZQZdoUPK+CmVkf0dF0nF/o4HUREefXIB4zM2ugjkoKq9tYthlwErA14KRgZtbLdDQd59daHksaAJwKfBi4Bvhae68zM7Oeq8M2BUmDgE8BHwCmA/tGxN/rEZiZmdVfR20KXwGOAaYBe0bE83WLyszMGmKDDtadAWwLfB54StLKfFslaWV9wjMzs3rqqE2ho4RhZma9kH/4zcys4KRgZmYFJwUzMyvUPSlI2k7SHZLmS5on6dS8fJCk2yU9nO+3qndsZmZ9XSNKCmuAMyJiV+AA4GRJuwGTgZkRsRMwMz83M7M6qntSiIglEXFvfrwKmA8MJ428Oj1vNh0YX+/YzMz6uk5PstOdJI0C9gHuAYZGxBJIiUPSNu28ZhIwCWDkyJF1itTMmlk1k/ssnDq2GyPp+RrW0Cxpc+AnwGkRUfpiuIiYFhGjI2L0kCFDahegmVkf1JCkIKk/KSFcFRHX5cVLJQ3L64cByxoRm5lZX9aI3kcCLgfmR8RFFatuBCbmxxOBG+odm5lZX9eINoWDgBOAP0u6Ly/7LDAVmCHpJGARMKEBsZmZ9Wl1TwoR8RtA7aweU89YzMxsXb6i2czMCk4KZmZWcFIwM7OCk4KZmRWcFMzMrOCkYGZmBScFMzMrOCmYmVnBScHMzApOCmZmVmjofApmZj1ZNfM4QHPO5eCSgpmZFZwUzMys4KRgZmYFJwUzMys4KZiZWcG9j8ysT6u2B1Fv45KCmZkVXFIwM2uQakoptbrGwSUFMzMrOCmYmVnBScHMzApOCmZmVnBSMDOzgpOCmZkVnBTMzKzgpGBmZgUnBTMzKzgpmJlZwUnBzMwKTgpmZlZwUjAzs0LTJQVJh0laIOkRSZMbHY+ZWV/SVElB0obA/wKHA7sBx0varbFRmZn1HU2VFID9gUci4tGIeBm4BhjX4JjMzPqMZptkZzjwRMXzxcBbKjeQNAmYlJ8+L2lBNx5/MPBMN+6vVhxn9+spsTrO7tVT4oRWsepLVe1r+/ZWNFtSUBvLYp0nEdOAaTU5uDQ7IkbXYt/dyXF2v54Sq+PsXj0lTqhfrM1WfbQY2K7i+QjgqQbFYmbW5zRbUvgjsJOkHSRtBBwH3NjgmMzM+oymqj6KiDWSPgHcCmwIfDci5tUxhJpUS9WA4+x+PSVWx9m9ekqcUKdYFRHr38rMzPqEZqs+MjOzBnJSMDOzQp9MCpK2k3SHpPmS5kk6NS8fJOl2SQ/n+60aHOfGkmZJuj/HeV4zxtlC0oaS/iTppvy8WeNcKOnPku6TNDsva7pYJW0p6VpJD+X/1QObNM6d82fZclsp6bQmjfX0/F2aK+nq/B1rxjhPzTHOk3RaXlaXOPtkUgDWAGdExK7AAcDJeTiNycDMiNgJmJmfN9JLwDsjYi9gb+AwSQfQfHG2OBWYX/G8WeMEeEdE7F3R77sZY/06cEtE7ALsRfpsmy7OiFiQP8u9gf2AF4Cf0mSxShoOnAKMjog9SJ1ZjqP54twD+A/SCA97AUdI2ol6xRkRff4G3AC8C1gADMvLhgELGh1bRYybAveSrvBuujhJ15TMBN4J3JSXNV2cOZaFwOBWy5oqVmAg8Bi5M0izxtlG3O8GftuMsbJ2xIRBpJ6XN+V4my3OCcB3Kp6fDXymXnH21ZJCQdIoYB/gHmBoRCwByPfbNDA0oKiSuQ9YBtweEU0ZJ3Ax6R/31YplzRgnpKvkb5M0Jw+bAs0X647AcuB7uUruO5I2o/nibO044Or8uKlijYgnga8Ci4AlwIqIuI0mixOYCxwsaWtJmwLvJV3UW5c4+3RSkLQ58BPgtIhY2eh42hIR/4xULB8B7J+Llk1F0hHAsoiY0+hYSjooIvYljcZ7sqSDGx1QG/oB+wLfioh9gNU0QVVRR/IFp0cBP250LG3JdfDjgB2AbYHNJH2wsVG9VkTMB74E3A7cAtxPqvKuiz6bFCT1JyWEqyLiurx4qaRhef0w0tl5U4iI54A7gcNovjgPAo6StJA0su07JV1J88UJQEQ8le+Xkeq+96f5Yl0MLM4lQ4BrSUmi2eKsdDhwb0Qszc+bLdZDgcciYnlEvAJcB7yV5ouTiLg8IvaNiIOBvwEPU6c4+2RSkCTgcmB+RFxUsepGYGJ+PJHU1tAwkoZI2jI/3oT0T/0QTRZnREyJiBERMYpUffCriPggTRYngKTNJA1oeUyqU55Lk8UaEU8DT0jaOS8aAzxIk8XZyvGsrTqC5ot1EXCApE3zb8AYUuN9s8WJpG3y/UjgGNLnWp84G9mg0qgb8DZSvfIDwH359l5ga1Jj6cP5flCD43wT8Kcc51zgC3l5U8XZKua3s7ahueniJNXV359v84DPNXGsewOz89//emCrZowzx7op8CywRcWyposVOI90YjUX+AHwuiaN89ekk4D7gTH1/Dw9zIWZmRX6ZPWRmZm1zUnBzMwKTgpmZlZwUjAzs4KTgpmZFZwUzDpB0tGSQtIujY7FrBacFMw653jgN6SL9Mx6HScFs5LyWFkHASeRk4KkDSRdmse9v0nSzZLel9ftJ+muPPDerRVDFJwi6UFJD0i6pmFvyKwN/RodgFkPMp40v8FfJP1N0r6kK6RHAXuSRq2cD3w3j631DWBcRCyX9H7gAuAjpIHtdoiIl1qGMTFrFk4KZuUdTxoiHNLAf8cD/YEfR8SrwNOS7sjrdwb2AG5Pw+ywIWm4ZkjDVlwl6XrS8BVmTcNJwawESVuTJhDaQ1KQfuSDNMpqmy8B5kXEgW2sGwscTBpm+mxJu0dE3YZGNuuI2xTMynkf8P2I2D4iRkXEdqSZ0Z4B/i23LQwlDQgIaZasIZIOhDRUu6TdJW0AbBcRd5AmJdoS2LzO78WsXS4pmJVzPDC11bKfALuS5j6YC/yFNIPfioh4OTc4XyJpC9J37eK8zZV5mYD/iTRXhllT8CipZlWStHlEPJ+rmGaRZnZ7utFxmXWFSwpm1bsp9yLaCDjfCcF6MpcUzMys4IZmMzMrOCmYmVnBScHMzApOCmZmVnBSMDOzwv8HioxtDZHrtIQAAAAASUVORK5CYII=\n",
      "text/plain": [
       "<Figure size 432x288 with 1 Axes>"
      ]
     },
     "metadata": {
      "needs_background": "light"
     },
     "output_type": "display_data"
    }
   ],
   "source": [
    "plt.title('Distribution of Ages in ANES 96 Data')\n",
    "plt.xlabel('Ages')\n",
    "plt.hist(df_anes96['age'], bins=20);\n",
    "plt.ylabel('Number of Respondents');"
   ]
  },
  {
   "cell_type": "markdown",
   "metadata": {},
   "source": [
    "### Barplot"
   ]
  },
  {
   "cell_type": "markdown",
   "metadata": {},
   "source": [
    "Now try it yourself! Instead of a histogram, let's make a bar plot using matplotlib's [`.bar()`](https://matplotlib.org/3.3.1/api/_as_gen/matplotlib.pyplot.bar.html) method."
   ]
  },
  {
   "cell_type": "markdown",
   "metadata": {},
   "source": [
    "**Question**: What kind of data is a bar plot good for visualizing? How is this different from a histogram?"
   ]
  },
  {
   "cell_type": "markdown",
   "metadata": {},
   "source": [
    "**Answer**: Bar plots are good for visualizing categorical data, while histograms are good for continuous data."
   ]
  },
  {
   "cell_type": "markdown",
   "metadata": {},
   "source": [
    "Make a bar plot that visualizes the votes that Bob Dole received in this sample, broken down by education level. You will need to manipulate the dataframe to get the vote counts by education level, then plot using the `.bar()` method. Also be sure to recode the numerical values in \"education\" to their corresponding text values. Consult the [dataset documentation](https://www.statsmodels.org/stable/datasets/generated/anes96.html). **Hint**: Consider using `groupby()`, `count()`, and `replace()` to get the data into the correct shape before plotting."
   ]
  },
  {
   "cell_type": "code",
   "execution_count": 24,
   "metadata": {},
   "outputs": [
    {
     "data": {
      "text/html": [
       "<div>\n",
       "<style scoped>\n",
       "    .dataframe tbody tr th:only-of-type {\n",
       "        vertical-align: middle;\n",
       "    }\n",
       "\n",
       "    .dataframe tbody tr th {\n",
       "        vertical-align: top;\n",
       "    }\n",
       "\n",
       "    .dataframe thead th {\n",
       "        text-align: right;\n",
       "    }\n",
       "</style>\n",
       "<table border=\"1\" class=\"dataframe\">\n",
       "  <thead>\n",
       "    <tr style=\"text-align: right;\">\n",
       "      <th></th>\n",
       "      <th>education</th>\n",
       "      <th>vote</th>\n",
       "    </tr>\n",
       "  </thead>\n",
       "  <tbody>\n",
       "    <tr>\n",
       "      <th>0</th>\n",
       "      <td>1.0</td>\n",
       "      <td>13</td>\n",
       "    </tr>\n",
       "    <tr>\n",
       "      <th>1</th>\n",
       "      <td>2.0</td>\n",
       "      <td>52</td>\n",
       "    </tr>\n",
       "    <tr>\n",
       "      <th>2</th>\n",
       "      <td>3.0</td>\n",
       "      <td>248</td>\n",
       "    </tr>\n",
       "    <tr>\n",
       "      <th>3</th>\n",
       "      <td>4.0</td>\n",
       "      <td>187</td>\n",
       "    </tr>\n",
       "    <tr>\n",
       "      <th>4</th>\n",
       "      <td>5.0</td>\n",
       "      <td>90</td>\n",
       "    </tr>\n",
       "    <tr>\n",
       "      <th>5</th>\n",
       "      <td>6.0</td>\n",
       "      <td>227</td>\n",
       "    </tr>\n",
       "    <tr>\n",
       "      <th>6</th>\n",
       "      <td>7.0</td>\n",
       "      <td>127</td>\n",
       "    </tr>\n",
       "  </tbody>\n",
       "</table>\n",
       "</div>"
      ],
      "text/plain": [
       "   education  vote\n",
       "0        1.0    13\n",
       "1        2.0    52\n",
       "2        3.0   248\n",
       "3        4.0   187\n",
       "4        5.0    90\n",
       "5        6.0   227\n",
       "6        7.0   127"
      ]
     },
     "execution_count": 24,
     "metadata": {},
     "output_type": "execute_result"
    }
   ],
   "source": [
    "educ_vote_counts = df_anes96.groupby('education', as_index=False)['vote'].count()\n",
    "educ_vote_counts\n"
   ]
  },
  {
   "cell_type": "code",
   "execution_count": 25,
   "metadata": {},
   "outputs": [
    {
     "data": {
      "text/html": [
       "<div>\n",
       "<style scoped>\n",
       "    .dataframe tbody tr th:only-of-type {\n",
       "        vertical-align: middle;\n",
       "    }\n",
       "\n",
       "    .dataframe tbody tr th {\n",
       "        vertical-align: top;\n",
       "    }\n",
       "\n",
       "    .dataframe thead th {\n",
       "        text-align: right;\n",
       "    }\n",
       "</style>\n",
       "<table border=\"1\" class=\"dataframe\">\n",
       "  <thead>\n",
       "    <tr style=\"text-align: right;\">\n",
       "      <th></th>\n",
       "      <th>popul</th>\n",
       "      <th>TVnews</th>\n",
       "      <th>selfLR</th>\n",
       "      <th>ClinLR</th>\n",
       "      <th>DoleLR</th>\n",
       "      <th>PID</th>\n",
       "      <th>age</th>\n",
       "      <th>education</th>\n",
       "      <th>income</th>\n",
       "      <th>vote</th>\n",
       "      <th>logpopul</th>\n",
       "    </tr>\n",
       "  </thead>\n",
       "  <tbody>\n",
       "    <tr>\n",
       "      <th>0</th>\n",
       "      <td>0.0</td>\n",
       "      <td>7.0</td>\n",
       "      <td>7.0</td>\n",
       "      <td>1.0</td>\n",
       "      <td>6.0</td>\n",
       "      <td>6.0</td>\n",
       "      <td>36.0</td>\n",
       "      <td>3.0</td>\n",
       "      <td>1.0</td>\n",
       "      <td>1.0</td>\n",
       "      <td>-2.302585</td>\n",
       "    </tr>\n",
       "    <tr>\n",
       "      <th>1</th>\n",
       "      <td>190.0</td>\n",
       "      <td>1.0</td>\n",
       "      <td>3.0</td>\n",
       "      <td>3.0</td>\n",
       "      <td>5.0</td>\n",
       "      <td>1.0</td>\n",
       "      <td>20.0</td>\n",
       "      <td>4.0</td>\n",
       "      <td>1.0</td>\n",
       "      <td>0.0</td>\n",
       "      <td>5.247550</td>\n",
       "    </tr>\n",
       "    <tr>\n",
       "      <th>2</th>\n",
       "      <td>31.0</td>\n",
       "      <td>7.0</td>\n",
       "      <td>2.0</td>\n",
       "      <td>2.0</td>\n",
       "      <td>6.0</td>\n",
       "      <td>1.0</td>\n",
       "      <td>24.0</td>\n",
       "      <td>6.0</td>\n",
       "      <td>1.0</td>\n",
       "      <td>0.0</td>\n",
       "      <td>3.437208</td>\n",
       "    </tr>\n",
       "    <tr>\n",
       "      <th>3</th>\n",
       "      <td>83.0</td>\n",
       "      <td>4.0</td>\n",
       "      <td>3.0</td>\n",
       "      <td>4.0</td>\n",
       "      <td>5.0</td>\n",
       "      <td>1.0</td>\n",
       "      <td>28.0</td>\n",
       "      <td>6.0</td>\n",
       "      <td>1.0</td>\n",
       "      <td>0.0</td>\n",
       "      <td>4.420045</td>\n",
       "    </tr>\n",
       "    <tr>\n",
       "      <th>4</th>\n",
       "      <td>640.0</td>\n",
       "      <td>7.0</td>\n",
       "      <td>5.0</td>\n",
       "      <td>6.0</td>\n",
       "      <td>4.0</td>\n",
       "      <td>0.0</td>\n",
       "      <td>68.0</td>\n",
       "      <td>6.0</td>\n",
       "      <td>1.0</td>\n",
       "      <td>0.0</td>\n",
       "      <td>6.461624</td>\n",
       "    </tr>\n",
       "    <tr>\n",
       "      <th>...</th>\n",
       "      <td>...</td>\n",
       "      <td>...</td>\n",
       "      <td>...</td>\n",
       "      <td>...</td>\n",
       "      <td>...</td>\n",
       "      <td>...</td>\n",
       "      <td>...</td>\n",
       "      <td>...</td>\n",
       "      <td>...</td>\n",
       "      <td>...</td>\n",
       "      <td>...</td>\n",
       "    </tr>\n",
       "    <tr>\n",
       "      <th>939</th>\n",
       "      <td>0.0</td>\n",
       "      <td>7.0</td>\n",
       "      <td>7.0</td>\n",
       "      <td>1.0</td>\n",
       "      <td>6.0</td>\n",
       "      <td>4.0</td>\n",
       "      <td>73.0</td>\n",
       "      <td>6.0</td>\n",
       "      <td>24.0</td>\n",
       "      <td>1.0</td>\n",
       "      <td>-2.302585</td>\n",
       "    </tr>\n",
       "    <tr>\n",
       "      <th>940</th>\n",
       "      <td>0.0</td>\n",
       "      <td>7.0</td>\n",
       "      <td>5.0</td>\n",
       "      <td>2.0</td>\n",
       "      <td>6.0</td>\n",
       "      <td>6.0</td>\n",
       "      <td>50.0</td>\n",
       "      <td>6.0</td>\n",
       "      <td>24.0</td>\n",
       "      <td>1.0</td>\n",
       "      <td>-2.302585</td>\n",
       "    </tr>\n",
       "    <tr>\n",
       "      <th>941</th>\n",
       "      <td>0.0</td>\n",
       "      <td>3.0</td>\n",
       "      <td>6.0</td>\n",
       "      <td>2.0</td>\n",
       "      <td>7.0</td>\n",
       "      <td>5.0</td>\n",
       "      <td>43.0</td>\n",
       "      <td>6.0</td>\n",
       "      <td>24.0</td>\n",
       "      <td>1.0</td>\n",
       "      <td>-2.302585</td>\n",
       "    </tr>\n",
       "    <tr>\n",
       "      <th>942</th>\n",
       "      <td>0.0</td>\n",
       "      <td>6.0</td>\n",
       "      <td>6.0</td>\n",
       "      <td>2.0</td>\n",
       "      <td>5.0</td>\n",
       "      <td>6.0</td>\n",
       "      <td>46.0</td>\n",
       "      <td>7.0</td>\n",
       "      <td>24.0</td>\n",
       "      <td>1.0</td>\n",
       "      <td>-2.302585</td>\n",
       "    </tr>\n",
       "    <tr>\n",
       "      <th>943</th>\n",
       "      <td>18.0</td>\n",
       "      <td>7.0</td>\n",
       "      <td>4.0</td>\n",
       "      <td>2.0</td>\n",
       "      <td>6.0</td>\n",
       "      <td>3.0</td>\n",
       "      <td>61.0</td>\n",
       "      <td>7.0</td>\n",
       "      <td>24.0</td>\n",
       "      <td>1.0</td>\n",
       "      <td>2.895912</td>\n",
       "    </tr>\n",
       "  </tbody>\n",
       "</table>\n",
       "<p>944 rows × 11 columns</p>\n",
       "</div>"
      ],
      "text/plain": [
       "     popul  TVnews  selfLR  ClinLR  DoleLR  PID   age  education  income  \\\n",
       "0      0.0     7.0     7.0     1.0     6.0  6.0  36.0        3.0     1.0   \n",
       "1    190.0     1.0     3.0     3.0     5.0  1.0  20.0        4.0     1.0   \n",
       "2     31.0     7.0     2.0     2.0     6.0  1.0  24.0        6.0     1.0   \n",
       "3     83.0     4.0     3.0     4.0     5.0  1.0  28.0        6.0     1.0   \n",
       "4    640.0     7.0     5.0     6.0     4.0  0.0  68.0        6.0     1.0   \n",
       "..     ...     ...     ...     ...     ...  ...   ...        ...     ...   \n",
       "939    0.0     7.0     7.0     1.0     6.0  4.0  73.0        6.0    24.0   \n",
       "940    0.0     7.0     5.0     2.0     6.0  6.0  50.0        6.0    24.0   \n",
       "941    0.0     3.0     6.0     2.0     7.0  5.0  43.0        6.0    24.0   \n",
       "942    0.0     6.0     6.0     2.0     5.0  6.0  46.0        7.0    24.0   \n",
       "943   18.0     7.0     4.0     2.0     6.0  3.0  61.0        7.0    24.0   \n",
       "\n",
       "     vote  logpopul  \n",
       "0     1.0 -2.302585  \n",
       "1     0.0  5.247550  \n",
       "2     0.0  3.437208  \n",
       "3     0.0  4.420045  \n",
       "4     0.0  6.461624  \n",
       "..    ...       ...  \n",
       "939   1.0 -2.302585  \n",
       "940   1.0 -2.302585  \n",
       "941   1.0 -2.302585  \n",
       "942   1.0 -2.302585  \n",
       "943   1.0  2.895912  \n",
       "\n",
       "[944 rows x 11 columns]"
      ]
     },
     "execution_count": 25,
     "metadata": {},
     "output_type": "execute_result"
    }
   ],
   "source": [
    "df_anes96"
   ]
  },
  {
   "cell_type": "code",
   "execution_count": 26,
   "metadata": {},
   "outputs": [
    {
     "data": {
      "text/html": [
       "<div>\n",
       "<style scoped>\n",
       "    .dataframe tbody tr th:only-of-type {\n",
       "        vertical-align: middle;\n",
       "    }\n",
       "\n",
       "    .dataframe tbody tr th {\n",
       "        vertical-align: top;\n",
       "    }\n",
       "\n",
       "    .dataframe thead th {\n",
       "        text-align: right;\n",
       "    }\n",
       "</style>\n",
       "<table border=\"1\" class=\"dataframe\">\n",
       "  <thead>\n",
       "    <tr style=\"text-align: right;\">\n",
       "      <th></th>\n",
       "      <th>education</th>\n",
       "      <th>vote</th>\n",
       "    </tr>\n",
       "  </thead>\n",
       "  <tbody>\n",
       "    <tr>\n",
       "      <th>0</th>\n",
       "      <td>1.0</td>\n",
       "      <td>13</td>\n",
       "    </tr>\n",
       "    <tr>\n",
       "      <th>1</th>\n",
       "      <td>2.0</td>\n",
       "      <td>52</td>\n",
       "    </tr>\n",
       "    <tr>\n",
       "      <th>2</th>\n",
       "      <td>3.0</td>\n",
       "      <td>248</td>\n",
       "    </tr>\n",
       "    <tr>\n",
       "      <th>3</th>\n",
       "      <td>4.0</td>\n",
       "      <td>187</td>\n",
       "    </tr>\n",
       "    <tr>\n",
       "      <th>4</th>\n",
       "      <td>5.0</td>\n",
       "      <td>90</td>\n",
       "    </tr>\n",
       "    <tr>\n",
       "      <th>5</th>\n",
       "      <td>6.0</td>\n",
       "      <td>227</td>\n",
       "    </tr>\n",
       "    <tr>\n",
       "      <th>6</th>\n",
       "      <td>7.0</td>\n",
       "      <td>127</td>\n",
       "    </tr>\n",
       "  </tbody>\n",
       "</table>\n",
       "</div>"
      ],
      "text/plain": [
       "   education  vote\n",
       "0        1.0    13\n",
       "1        2.0    52\n",
       "2        3.0   248\n",
       "3        4.0   187\n",
       "4        5.0    90\n",
       "5        6.0   227\n",
       "6        7.0   127"
      ]
     },
     "execution_count": 26,
     "metadata": {},
     "output_type": "execute_result"
    }
   ],
   "source": [
    "df_anes96.groupby('education',as_index=False)['vote'].count()\n",
    "\n"
   ]
  },
  {
   "cell_type": "code",
   "execution_count": 27,
   "metadata": {},
   "outputs": [],
   "source": [
    "# Shape the data\n",
    "educ_vote_counts = df_anes96.groupby('education', as_index=False)['vote'].count()\n",
    "educ_vote_counts = educ_vote_counts.replace([1, 2, 3, 4, 5, 6, 7],\n",
    "                                           ['grade school', 'Some high school', 'High school graduate',\n",
    "                                            'Some college', 'College degree', 'Masters degree', 'PhD'])"
   ]
  },
  {
   "cell_type": "code",
   "execution_count": 28,
   "metadata": {},
   "outputs": [
    {
     "data": {
      "text/html": [
       "<div>\n",
       "<style scoped>\n",
       "    .dataframe tbody tr th:only-of-type {\n",
       "        vertical-align: middle;\n",
       "    }\n",
       "\n",
       "    .dataframe tbody tr th {\n",
       "        vertical-align: top;\n",
       "    }\n",
       "\n",
       "    .dataframe thead th {\n",
       "        text-align: right;\n",
       "    }\n",
       "</style>\n",
       "<table border=\"1\" class=\"dataframe\">\n",
       "  <thead>\n",
       "    <tr style=\"text-align: right;\">\n",
       "      <th></th>\n",
       "      <th>education</th>\n",
       "      <th>vote</th>\n",
       "    </tr>\n",
       "  </thead>\n",
       "  <tbody>\n",
       "    <tr>\n",
       "      <th>0</th>\n",
       "      <td>grade school</td>\n",
       "      <td>13</td>\n",
       "    </tr>\n",
       "    <tr>\n",
       "      <th>1</th>\n",
       "      <td>Some high school</td>\n",
       "      <td>52</td>\n",
       "    </tr>\n",
       "    <tr>\n",
       "      <th>2</th>\n",
       "      <td>High school graduate</td>\n",
       "      <td>248</td>\n",
       "    </tr>\n",
       "    <tr>\n",
       "      <th>3</th>\n",
       "      <td>Some college</td>\n",
       "      <td>187</td>\n",
       "    </tr>\n",
       "    <tr>\n",
       "      <th>4</th>\n",
       "      <td>College degree</td>\n",
       "      <td>90</td>\n",
       "    </tr>\n",
       "    <tr>\n",
       "      <th>5</th>\n",
       "      <td>Masters degree</td>\n",
       "      <td>227</td>\n",
       "    </tr>\n",
       "    <tr>\n",
       "      <th>6</th>\n",
       "      <td>PhD</td>\n",
       "      <td>127</td>\n",
       "    </tr>\n",
       "  </tbody>\n",
       "</table>\n",
       "</div>"
      ],
      "text/plain": [
       "              education  vote\n",
       "0          grade school    13\n",
       "1      Some high school    52\n",
       "2  High school graduate   248\n",
       "3          Some college   187\n",
       "4        College degree    90\n",
       "5        Masters degree   227\n",
       "6                   PhD   127"
      ]
     },
     "execution_count": 28,
     "metadata": {},
     "output_type": "execute_result"
    }
   ],
   "source": [
    "educ_vote_counts"
   ]
  },
  {
   "cell_type": "markdown",
   "metadata": {},
   "source": [
    "Next, use your new dataset to make a barplot. Be sure to add [`.xtick()`](https://matplotlib.org/3.1.1/api/_as_gen/matplotlib.pyplot.xticks.html) labels to label the categories."
   ]
  },
  {
   "cell_type": "code",
   "execution_count": 29,
   "metadata": {},
   "outputs": [
    {
     "data": {
      "text/plain": [
       "range(0, 7)"
      ]
     },
     "execution_count": 29,
     "metadata": {},
     "output_type": "execute_result"
    }
   ],
   "source": [
    "x = range(len(educ_vote_counts['education']))\n",
    "x"
   ]
  },
  {
   "cell_type": "code",
<<<<<<< HEAD
   "execution_count": 30,
=======
   "execution_count": 128,
>>>>>>> 11117d6361285a7c9a43b566b4aa8d5c497cd834
   "metadata": {},
   "outputs": [
    {
     "data": {
<<<<<<< HEAD
      "image/png": "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\n",
=======
      "image/png": "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\n",
>>>>>>> 11117d6361285a7c9a43b566b4aa8d5c497cd834
      "text/plain": [
       "<Figure size 432x288 with 1 Axes>"
      ]
     },
     "metadata": {
      "needs_background": "light"
     },
     "output_type": "display_data"
    }
   ],
   "source": [
    "## Plot\n",
    "x = educ_vote_counts['education']\n",
    "y = educ_vote_counts['vote']\n",
    "\n",
    "plt.bar(x, y)\n",
    "\n",
    "plt.title('Number of Votes for Dole by Education Level')\n",
    "plt.xticks(x, x, rotation = 90)\n",
    "plt.show()"
   ]
  },
  {
   "cell_type": "markdown",
   "metadata": {},
   "source": [
    "## Plotting with Seaborn"
   ]
  },
  {
   "cell_type": "markdown",
   "metadata": {},
   "source": [
    "\"`Seaborn` is a Python visualization library based on `Matplotlib`. It provides a high-level interface for drawing attractive statistical graphics.\"\n",
    "\n",
    "Let's import it and give it the alias `sns`, which is done by convention."
   ]
  },
  {
   "cell_type": "code",
   "execution_count": 31,
   "metadata": {},
   "outputs": [],
   "source": [
    "import seaborn as sns\n",
    "sns.set(rc={'axes.facecolor' : '#EEEEEE'})"
   ]
  },
  {
   "cell_type": "markdown",
   "metadata": {},
   "source": [
    "The `sns.set()` function allows us to change some of the `rcParams`. Here, we're changing the plot's face color.\n",
    "\n",
    "`seaborn` has the capacity to create a large number of informative, beautiful plots very easily. Here we'll review several types, but please visit their [gallery](https://seaborn.pydata.org/examples/index.html) for a more complete picture of all that you can do with `seaborn`."
   ]
  },
  {
   "cell_type": "markdown",
   "metadata": {},
   "source": [
    "Let's use the [U.S. Macroeconomics](https://www.statsmodels.org/dev/datasets/generated/macrodata.html) dataset, also from the `statsmodels` library. Load the data and explore it."
   ]
  },
  {
   "cell_type": "code",
   "execution_count": 32,
   "metadata": {},
   "outputs": [],
   "source": [
    "macro = sm.datasets.macrodata\n",
    "dataset_macro = macro.load_pandas()\n",
    "df_macro = dataset_macro.data"
   ]
  },
  {
   "cell_type": "code",
   "execution_count": 33,
   "metadata": {},
   "outputs": [
    {
     "data": {
      "text/html": [
       "<div>\n",
       "<style scoped>\n",
       "    .dataframe tbody tr th:only-of-type {\n",
       "        vertical-align: middle;\n",
       "    }\n",
       "\n",
       "    .dataframe tbody tr th {\n",
       "        vertical-align: top;\n",
       "    }\n",
       "\n",
       "    .dataframe thead th {\n",
       "        text-align: right;\n",
       "    }\n",
       "</style>\n",
       "<table border=\"1\" class=\"dataframe\">\n",
       "  <thead>\n",
       "    <tr style=\"text-align: right;\">\n",
       "      <th></th>\n",
       "      <th>year</th>\n",
       "      <th>quarter</th>\n",
       "      <th>realgdp</th>\n",
       "      <th>realcons</th>\n",
       "      <th>realinv</th>\n",
       "      <th>realgovt</th>\n",
       "      <th>realdpi</th>\n",
       "      <th>cpi</th>\n",
       "      <th>m1</th>\n",
       "      <th>tbilrate</th>\n",
       "      <th>unemp</th>\n",
       "      <th>pop</th>\n",
       "      <th>infl</th>\n",
       "      <th>realint</th>\n",
       "    </tr>\n",
       "  </thead>\n",
       "  <tbody>\n",
       "    <tr>\n",
       "      <th>0</th>\n",
       "      <td>1959.0</td>\n",
       "      <td>1.0</td>\n",
       "      <td>2710.349</td>\n",
       "      <td>1707.4</td>\n",
       "      <td>286.898</td>\n",
       "      <td>470.045</td>\n",
       "      <td>1886.9</td>\n",
       "      <td>28.98</td>\n",
       "      <td>139.7</td>\n",
       "      <td>2.82</td>\n",
       "      <td>5.8</td>\n",
       "      <td>177.146</td>\n",
       "      <td>0.00</td>\n",
       "      <td>0.00</td>\n",
       "    </tr>\n",
       "    <tr>\n",
       "      <th>1</th>\n",
       "      <td>1959.0</td>\n",
       "      <td>2.0</td>\n",
       "      <td>2778.801</td>\n",
       "      <td>1733.7</td>\n",
       "      <td>310.859</td>\n",
       "      <td>481.301</td>\n",
       "      <td>1919.7</td>\n",
       "      <td>29.15</td>\n",
       "      <td>141.7</td>\n",
       "      <td>3.08</td>\n",
       "      <td>5.1</td>\n",
       "      <td>177.830</td>\n",
       "      <td>2.34</td>\n",
       "      <td>0.74</td>\n",
       "    </tr>\n",
       "    <tr>\n",
       "      <th>2</th>\n",
       "      <td>1959.0</td>\n",
       "      <td>3.0</td>\n",
       "      <td>2775.488</td>\n",
       "      <td>1751.8</td>\n",
       "      <td>289.226</td>\n",
       "      <td>491.260</td>\n",
       "      <td>1916.4</td>\n",
       "      <td>29.35</td>\n",
       "      <td>140.5</td>\n",
       "      <td>3.82</td>\n",
       "      <td>5.3</td>\n",
       "      <td>178.657</td>\n",
       "      <td>2.74</td>\n",
       "      <td>1.09</td>\n",
       "    </tr>\n",
       "    <tr>\n",
       "      <th>3</th>\n",
       "      <td>1959.0</td>\n",
       "      <td>4.0</td>\n",
       "      <td>2785.204</td>\n",
       "      <td>1753.7</td>\n",
       "      <td>299.356</td>\n",
       "      <td>484.052</td>\n",
       "      <td>1931.3</td>\n",
       "      <td>29.37</td>\n",
       "      <td>140.0</td>\n",
       "      <td>4.33</td>\n",
       "      <td>5.6</td>\n",
       "      <td>179.386</td>\n",
       "      <td>0.27</td>\n",
       "      <td>4.06</td>\n",
       "    </tr>\n",
       "    <tr>\n",
       "      <th>4</th>\n",
       "      <td>1960.0</td>\n",
       "      <td>1.0</td>\n",
       "      <td>2847.699</td>\n",
       "      <td>1770.5</td>\n",
       "      <td>331.722</td>\n",
       "      <td>462.199</td>\n",
       "      <td>1955.5</td>\n",
       "      <td>29.54</td>\n",
       "      <td>139.6</td>\n",
       "      <td>3.50</td>\n",
       "      <td>5.2</td>\n",
       "      <td>180.007</td>\n",
       "      <td>2.31</td>\n",
       "      <td>1.19</td>\n",
       "    </tr>\n",
       "  </tbody>\n",
       "</table>\n",
       "</div>"
      ],
      "text/plain": [
       "     year  quarter   realgdp  realcons  realinv  realgovt  realdpi    cpi  \\\n",
       "0  1959.0      1.0  2710.349    1707.4  286.898   470.045   1886.9  28.98   \n",
       "1  1959.0      2.0  2778.801    1733.7  310.859   481.301   1919.7  29.15   \n",
       "2  1959.0      3.0  2775.488    1751.8  289.226   491.260   1916.4  29.35   \n",
       "3  1959.0      4.0  2785.204    1753.7  299.356   484.052   1931.3  29.37   \n",
       "4  1960.0      1.0  2847.699    1770.5  331.722   462.199   1955.5  29.54   \n",
       "\n",
       "      m1  tbilrate  unemp      pop  infl  realint  \n",
       "0  139.7      2.82    5.8  177.146  0.00     0.00  \n",
       "1  141.7      3.08    5.1  177.830  2.34     0.74  \n",
       "2  140.5      3.82    5.3  178.657  2.74     1.09  \n",
       "3  140.0      4.33    5.6  179.386  0.27     4.06  \n",
       "4  139.6      3.50    5.2  180.007  2.31     1.19  "
      ]
     },
     "execution_count": 33,
     "metadata": {},
     "output_type": "execute_result"
    }
   ],
   "source": [
    "df_macro.head()"
   ]
  },
  {
   "cell_type": "markdown",
   "metadata": {},
   "source": [
    "Now, use the `sns` library's [`.regplot()`](https://seaborn.pydata.org/generated/seaborn.regplot.html) method to visualize a regression of Real Gross Domestic Product (GDP) on Consumer Price Index (CPI). "
   ]
  },
  {
   "cell_type": "code",
   "execution_count": 34,
   "metadata": {},
   "outputs": [
    {
     "data": {
      "image/png": "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\n",
      "text/plain": [
       "<Figure size 432x288 with 1 Axes>"
      ]
     },
     "metadata": {},
     "output_type": "display_data"
    }
   ],
   "source": [
    "sns.regplot(x='cpi', y='realgdp', data=df_macro, color='teal')\n",
    "\n",
    "plt.title('Regression of Real GDP on CPI')\n",
    "plt.xlabel('Consumer Price Index')\n",
    "plt.ylabel('Real GDP');"
   ]
  },
  {
   "cell_type": "markdown",
   "metadata": {},
   "source": [
    "**Question**: How well does the regression fit the data? What can you conclude from this plot?"
   ]
  },
  {
   "cell_type": "markdown",
   "metadata": {},
   "source": [
    "**Answer**: Real GDP tends to positively correlate with CPI. Note that at best we can say that CPI might be a good predictor of GDP, but cannot make a causal claim with this regression alone."
   ]
  },
  {
   "cell_type": "markdown",
   "metadata": {},
   "source": [
    "### Kernel Density Plots"
   ]
  },
  {
   "cell_type": "markdown",
   "metadata": {},
   "source": [
    "Earlier, we used histograms to visualize continuous data. As we saw earlier, the choice of bin width is consequential for the shape of the histogram. Another option for visualizing the same data is [kernel density estimation](https://en.wikipedia.org/wiki/Kernel_density_estimation). KDE is a method for estimating the probability density distribution (pdf) of a random variable. Try using seaborn's [`.kdeplot()`](https://seaborn.pydata.org/generated/seaborn.kdeplot.html) to plot real GDP."
   ]
  },
  {
   "cell_type": "code",
   "execution_count": 35,
   "metadata": {},
   "outputs": [
    {
     "data": {
      "image/png": "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\n",
      "text/plain": [
       "<Figure size 432x288 with 1 Axes>"
      ]
     },
     "metadata": {},
     "output_type": "display_data"
    }
   ],
   "source": [
    "sns.kdeplot(df_macro['realgdp'], shade=True)\n",
    "\n",
    "plt.title(\"Kernel Density Estimate of Real GDP\")\n",
    "plt.xlabel(\"Real GDP\")\n",
    "plt.ylabel(\"Density\");"
   ]
  },
  {
   "cell_type": "markdown",
   "metadata": {},
   "source": [
    "**Question**: What can you say about the distribution from this kernel density plot?"
   ]
  },
  {
   "cell_type": "markdown",
   "metadata": {},
   "source": [
    "**Answer**: The data is slightly right skewed."
   ]
  },
  {
   "cell_type": "markdown",
   "metadata": {},
   "source": [
    "You can also overlay a kernel density plot on a histogram using [`.displot()`](https://seaborn.pydata.org/generated/seaborn.displot.html). Try using displot yourself here."
   ]
  },
  {
   "cell_type": "code",
   "execution_count": 36,
   "metadata": {},
   "outputs": [
    {
     "data": {
      "image/png": "iVBORw0KGgoAAAANSUhEUgAAAVwAAAFqCAYAAABWNeKcAAAAOXRFWHRTb2Z0d2FyZQBNYXRwbG90bGliIHZlcnNpb24zLjUuMSwgaHR0cHM6Ly9tYXRwbG90bGliLm9yZy/YYfK9AAAACXBIWXMAAAsTAAALEwEAmpwYAAA+dElEQVR4nO3dd3wU1d4/8M9sSzYFCCWAEBCQgNKRFhAiKgmQhBYMvYgIeKVc1IeSB8UGCBaKAg9esYFIDeUiRaRJuxflXqoQSkhIABGSEFI22+b8/ojsj5aQsjOTDZ/36+VLdjZzzvdsNp9Mzs6ckYQQAkREpDid1gUQET0qGLhERCph4BIRqYSBS0SkEgYuEZFKGLhERCoxaF3AoyAlJQVRUVH473//69q2ZcsWvPvuu5g3bx6CgoLQpUsXBAcHAwBkWYavry+GDh2K7t27AwDi4uIwY8YM1KxZ8662GzRogDlz5ri95uPHj2Pt2rV477333N72veLi4rBgwQLUq1cPS5cuveu5Bg0a4NChQ6hYseJdX799+3YsWbIE8+fPR+3atdGrV6982//888/RsGFDvPDCC0oNoUScTifGjh2LhIQEDBkyBIMHDy5WO0OGDMHly5fh7+8PIO99ZLPZ8Oqrrxb4+jzMc889h/nz56NJkyb3PRcfH4+FCxfizJkz0Ov10Ol06Nu3L4YPHw5Jku5738qyjBo1amDs2LFo3LjxfXVLkgS73Y7GjRvjnXfegdlsLnbdpREDVwMrV67EokWL8M033+DJJ59ESkoKvL29sXHjRtfXXL58GcOHD4der0d4eDgAoFWrVliyZIkqNZ4/fx7Xrl1Tpa8NGzZg4sSJ6NmzZ5H3nTBhwkO/5t///jeeeOKJ4pSmimvXrmH//v04evQo9Hp9idqaNGkSunbt6np84sQJDBgwAC+88AL8/PxKWupdzpw5g5deegnvv/8+FixYAABIS0vD3/72NwDASy+9BOD+9+3BgwcxcuRIrFu3DjVq1LivbiEEJkyYgAULFmDy5MlurVlrDFyVffHFF4iLi8OKFSvuO1q9U40aNTB+/HgsXbrUFbhFsWrVKixbtgw6nQ6VK1fGW2+9hTp16mDKlCnw8/NDfHw8/vjjDzRo0ACzZ8+Gr6+va9+rV69iwYIFyMzMxNSpUzFr1qwC2/Py8sKZM2eQmpqKDh06YNq0aTAajXfVk5mZiXfffRdnzpyBJEno2LEjXn/9dcyZMwcnTpxASkoK0tPTMXz48CKNc8qUKahfvz5efvllLFiwADt27IDRaERAQABmzZqFHTt24OTJk5gzZw70ej3atWv3wDoMBgP27t2Ljz/+GDqdDk8++SQOHjyIFStW4PDhw1i7di0sFgv8/PywZMkSvPPOO0hKSsLNmzfh6+uLjz/+GHXr1sWQIUPQqFEjHD16FGlpaYiJicGNGzdw+PBhWCwWzJs3Dw0aNHDVn5WVhZEjR8LhcKBPnz747LPP8Oeff2LOnDmwWCwwGo34+9//jk6dOiEuLu6uOpYtW/bQ1yc5ORk+Pj4wmUwAgF27dmHx4sWw2+3w9vbG5MmT0aJFC9y4cQNvv/02UlNTcf36ddSoUQPz5s1DpUqV8m173rx5GDly5F1/OVSsWBHvvfce4uPj892vffv26NKlC3744Qe8+eab9z0vSRLatm2LX3755aHj8ziCFJecnCyaN28uZs+eLYKDg8Xy5csf+Py9zp49K5o1ayaEEGLdunWiZcuWokePHnf9t3bt2vv2O3jwoHjhhRdEamqqa99u3boJWZbF5MmTRb9+/YTVahU2m0306tXrgW2sW7dOjBo1qlDt9erVS2RlZQmr1SoGDRokli1bdl97kyZNEu+//76QZVlYrVYxYsQIsWTJEiGEEIMHDxZbt2594GsXHBwsIiMj7xpzaGioq7bJkyeLL7/8Uly5ckW0bNlSWK1WIYQQS5cuFTt27Liv/fzqSEtLE23atBGnT58WQggRFxcngoODRXJysli3bp1o3bq1yMzMFEIIsXXrVvH++++7anzrrbfEe++95+pr7NixQgghjh49KoKDg8XOnTuFEELMmDFDTJs27b4x3vn9T0tLEyEhIeLo0aNCiLz3QJs2bcSlS5fuq+NegwcPFp07dxY9evQQzz77rAgJCRETJ04Up06dEkIIcfHiRREZGSnS0tJcbXfo0EFkZ2eLb775xvX9kGVZjBw5UixdulQIIUTnzp3F8ePH7+vv6aefFmfOnHlgLbfd+T660/Lly8Urr7ziqvvO7//NmzfFoEGDXP2XJTzCVUlOTg7Onj2LL774AhMnTkSLFi3w1FNPFbiPJEnw9vZ2PS7slMK+ffvQvXt317xnnz59MGPGDKSkpAAAOnbs6DriCQ4ORkZGRona6927t+sIuWfPnti5c+d985C//PILfvjhB0iSBJPJhP79++Pbb7/FqFGjHjqeb7/99oFzuHeqWrUqGjZsiN69e6NTp07o1KkTQkJC7msrvzrq1KmDevXqoWHDhq4xffDBB679GjRo4PqTvGvXrggKCsKyZcuQlJSEw4cPo0WLFq6v7dKlCwAgKCgIQN7rDQC1atXC4cOHCxzr8ePHUatWLTRr1gwAUL9+fbRs2RKHDx+GJEl31fEgt/80T0tLwyuvvIKqVau63mcHDhzAn3/+eddfEZIk4dKlSxg2bBh+++03fP3110hMTMS5c+dcNeRHCAFJklyPZ86ciX//+9+QZRkWiwU///xzgfvf+d6eM2cOFi9eDPHXSgOdO3fG0KFDC9zfEzFwVeLt7Y3FixfDaDRi9OjRGDt2LOLi4lChQoV89zlx4oTrg7SikGX5vm1CCDgcDlctt0mS5HqTF7e9O+cdhRDQ6e4/+UWW5bt+OGVZdu3vDjqdDsuXL8eJEydw6NAhzJw5Ex07dsSkSZMKVYder7/vdbhzHD4+Pq5/r1ixAqtXr8agQYMQFRWFChUquH75AHD9Mrvt3umVgjidzrvqA/7/a200Gu+qoyAVK1bEvHnzEBkZiRYtWiAsLAyyLCMkJATz5s1zfd3Vq1cRGBiIjz76CMePH0d0dDTatm0Lh8Px0PdFixYtcPjwYdd7NDY2FsD//5C4ICdPnrzrvX3v3HNZxdPCVKLT6Vw/eKNGjcITTzyBN95444FhBgAXL17EokWLMGLEiCL31bFjR2zZsgVpaWkAgHXr1qFChQqoXbt2odvQ6/WuQHxYe1u3boXNZoPVasX69evRuXPn+9p75plnsHz5cgghYLPZsHr1arRv377IY8vPmTNnEBkZiXr16mH06NEYPnw4Tpw4cd9Y8qujZcuWSExMxJkzZwAA27dvx61bt+4LPwDYv38/evfujRdffBF16tTBrl274HQ63TKO5s2bIyEhAcePHwcAnDt3Dr/++ivatGlT5LaCgoIwZswYzJgxAzk5OQgJCcGBAwdw4cIFAMDevXvRo0cP5ObmYv/+/Rg2bBh69eqFSpUq4eDBgw8d0xtvvIElS5Zgz549rnDOzc3Fjh07HvhL97a9e/diz5496NevX5HH5Ol4hKsBSZIwe/Zs9O7dG/PmzUNMTAxyc3Ndn9LrdDp4eXnh9ddfx7PPPuva77fffrvvk3y9Xo+4uLi7tnXo0AHDhw/HsGHDIMsyKlasiCVLlhT4Q3Cv5s2bY+HChRg7diw+//zzAtvz9vbGwIEDcevWLYSHhyM6Ovq+9qZNm4YPPvgAUVFRsNvt6NixI8aMGVPoeh6mYcOG6NatG6Kjo+Hj4wNvb29MmzYNQN5pTZ9++insdnu+dZhMJnz66aeYPHkydDodGjduDIPB8MDTkkaMGIG3334ba9eudb1WZ8+edcs4KlasiPnz5+P9999Hbm4uJEnCrFmzUKdOnbtOKyysl19+GRs2bMDixYvxxhtv4L333sPrr78OIQQMBgMWL14MX19fvPbaa5gzZw7mz58Po9GIli1b4tKlSwW2/eSTT+Lbb7/FwoUL8cknn0CWZVitVrRt2xarV692fd2d71tJkhAYGIilS5eiSpUqRR6Pp5PEw/5uICrAnWcJeLKsrCwsWrQI48aNg9lsxqlTpzB69Gjs27fvgUe5RMXBI1wiAH5+fjAajejbty8MBgMMBgPmzZvHsCW34hEuEZFK+KEZEZFKGLhERCph4BIRqcTjPjTLyMjI99zV0qpcuXK4deuW1mW4BcdS+pSVcQBlYywBAQH5PscjXBWUdAWo0oRjKX3KyjiAsjWWB2HgEhGphIFLRKQSBi4RkUoYuEREKmHgEhGphIFLRKQSBi4RkUoYuEREKmHgEhGphIFLRKQSBi4RkUoYuEREKvG41cI8SXlfX+j+umV2QSsIuZtssyEjO1u1/oiocBi4CtKZTLBMngyz2QyLxaJav+bZswEGLlGpwykFIiKVMHCJiFTCwCUiUomic7jz58/H9u3bIUkS+vbti5deeglTp07FkSNHYDabAQBjx45Fly5dlCyDiKhUUCxwDx8+jH/961/YtGkTHA4HunfvjtDQUJw8eRLLly9HYGCgUl0TEZVKik0ptGnTBt999x0MBgNSU1PhdDrh7e2NK1euIDY2FlFRUViwYIHH3RCSiKi4FJ1SMBqNWLBgAb766it07doVDocD7dq1w/Tp0+Hv74/Ro0dj7dq1iImJKXSb5cuXV7Bi97s9dXL7/2pR8rxfNc8pVlpZGUtZGQdQtsZyL0kIIZTuxGKxYMyYMejevTv69evn2r5jxw5s2LABCxcuLHRbnnSb9ICAAM3Ow01PT1ek7YCAAMXaVltZGUtZGQdQNsaiyW3SL1y4gNOnTwPIO7oLCwvDli1bsH37dtfXCCFgMPDaCyJ6NCgWuCkpKZg2bRpsNhtsNht27tyJ1q1bY+bMmcjIyIDdbseqVat4hgIRPTIUO7wMDQ3F8ePH0atXL+j1eoSFhWHs2LEICAjAgAED4HA4EBYWhsjISKVKICIqVVSZw3UnzuE+HOdwC6esjKWsjAMoG2PRZA6XiIjuxsAlIlIJA5eISCUMXCIilTBwiYhUwsAlIlIJA5eISCUMXCIilTBwiYhUwsAlIlIJA5eISCUMXCIilTBwiYhUwsAlIlIJA5eISCUMXCIilTBwiYhUwsAlIlLJI3HL3PK+vtCZTFqXQUSPuEcicHUmEyyTJ6ver3n2bNX7JKLSi1MKREQqYeASEamEgUtEpBIGLhGRShi4REQqYeASEankkTgt7JHjcCAgIECx5vNrW7bZkJGdrVi/RJ6OgVsWGQyKnXdsNpthsVge/Nzs2QADlyhfnFIgIlIJA5eISCWKBu78+fPRvXt3RERE4OuvvwYAHDx4EFFRUQgLC8PcuXOV7J6IqFRRbA738OHD+Ne//oVNmzbB4XCge/fuCAkJQWxsLJYtW4bq1atj9OjR2Lt3L0JDQ5Uqg4io1FDsCLdNmzb47rvvYDAYkJqaCqfTiVu3bqF27doICgqCwWBAVFQUtm3bplQJRESliqJnKRiNRixYsABfffUVunbtij///BNVqlRxPR8YGIhr164pWYJns1igv3gRusuXIaWmQsrJAZxOwGSCKFcOcuXKkIOCIAcFAXq91tUS0UMoflrY+PHj8corr2DMmDFITEyEJEmu54QQdz0ujPLlyxerDrPZXKz9Sup2v0XqPzkZOHQIiI8HZBkwmYAqVYDKlfOC1WYD0tOhP38+7+u8vICmTYF27YCKFYveXxEV1LaS5/8qwdPqzU9ZGQdQtsZyL8UC98KFC7DZbHjyySdhNpsRFhaGbdu2QX/Hkdj169cRGBhYpHYzMjIgy3KR9gkICMj33FElmQFYLJYCz129k5SWBuPu3dBfuADh7Q3H00/D2bAhRNWqgO4Bsz9WK3TJydCfOQP9kSPAr79CDg6GftAgxcZb4Hm4ANLT0xXpVwkBAQEeVW9+yso4gLIxloJ+YSg2h5uSkoJp06bBZrPBZrNh586d6N+/Py5evIikpCQ4nU5s3rwZnTp1UqoEzyEE9EeOwOubb6BLToY9NBS5Y8bA0bkzRPXqDw5bAPDygvzEE7BHRiJ39Gg42rWDLjERaNwYhv37Abtd1WEQUcEUO8INDQ3F8ePH0atXL+j1eoSFhSEiIgIVK1bEuHHjYLVaERoaiq5duypVgmew2WDcuhWG+Hg469aFLTwc8Pcvejv+/nB06gRHy5Yw37wJ44oV0J8+DVuPHnlHyESkOUXncMeNG4dx48bdtS0kJASbNm1SslvPYbXCtHYtdFeuwB4aCkebNkAR57Tv4+cHLFwIq8MB05Yt8Fq+HPbnn4ezWbOSt01EJcIrzbRiscBr5Urorl6FLSoKjrZt3RqI8uOPI3f4cMhBQTD99BOMW7fmneFARJph4GohNxdeK1dCunEDtt69ITdsqEw/Pj6wvfgi7O3bw3DyJEzr1gFWqzJ9EdFDMXDV5nTCtHEjpNRU2KKjIderp2x/kgTHM8/A1rUrdElJ8PrhB67oRaQRBq6ahIDx55+hT0qCPTwc8uOPq9a1s2lT2KKjIaWnw2vlSoYukQYYuCrS/+c/MBw7BnvbtnA2aaJ6/3LdurD17Qvp1i2GLpEGGLgqkf74A8bdu+F84gk4NDz3WA4KyjvSvR26OTma1UL0qGHgqsFuh2nz5rwPsbp10/z0LLlWrbzQzciA17p1eZcKE5HiGLhq+Okn6NLSYOveHdBoTYd7ybVqwRYVBemPP2DauJGnjBGpgIGrMN2FC8Bvv8HeqpWqH5IVhly/PuxhYdBfvAjjtm2AEFqXRFSm8SaSSsrJgXHHDqByZU3nbQvibNYM9qwsGA8cgKhUCY527bQuiajM4hGukmbOhO7WLSAiAjCU3t9tjvbt4XjySRh/+QW6c+e0LoeozGLgKkRKSwM++giOp54CStlUwn0kCfauXSFXrw7T5s2Q/vxT64qIyiQGrhKEyJtK8PaG/dlnta6mcIxGWHv3Bry8YIqL4zm6RApg4CpAd/489ElJwAcf5K3e5Sn8/GDt0wdSTg5MGzbwzAUiN2Pgupssw7hvH+SAAODVV7WupshEtWqwd+8O/eXLMO7Zo3U5RGUKA9fN9L//Dt2NG7B37FiqPygriLNhQziefhqGI0egP31a63KIygwGrjs5HDDs3w+5alXIDRpoXU2J2J99Fs4aNWDctg1SaqrW5RCVCQxcN9IfOwbdrVuwh4Zqfvluien1sPXoARiNefO5vPyXqMQYuO5it8N46BCctWqVuivKis3fP+/y37Q0XolG5AYMXDfRHz8OKScHjmee0boUt5Jr14ajY0cYzpyB/j//0bocIo/GwHUHpxOGw4fhrFkTcs2aWlfjdo62beGsVw/G3buB5GStyyHyWAxcN9D//jt0mZl5N4IsiyQJtogICH9/YO1awGLRuiIij8TALSkhYPj3vyEHBkKuW1frapTj7Q1bz55AdjZMP/7I+VyiYmDglpDu3Dno0tLcfpvz0khUqwaEh0OfkADDv/+tdTlEHoeBW0KGw4chV6gAp4efd1torVrB0bAhDPv2Qcf5XKIiYeCWgHT1KvRXrsDx9NOA7hF5KSUJ9vBwiAoVYNq0iYvcEBXBI5ISyjD85z8QRiOcjRtrXYq6vLzy5nOt1rx7tcmy1hUReQQGbnFlZUF/+nTe7c69vLSuRnUiMBD2F16APikJhkOHtC6HyCN45uoqpYDh2DFIsgxHy5Zal6IZZ5MmcCQnw3DgQJk8/5jI3XiEWxxOJwxHj8JZpw5ExYpaV6MdSYK9SxeISpVg+uc/gStXtK6IqFRj4BaDPj4eUnZ23odljzqTKW8+124HBgwAHA6tKyIqtRQN3M8//xwRERGIiIjAnDlzAABTp05FWFgYevbsiZ49e2LHjh1KlqAI/fHjkMuXh1ynjtallAqicmXYw8KAX36B94cfal0OUaml2BzuwYMHsX//fqxfvx6SJGHkyJHYsWMHTp48ieXLlyMwMFCprhUlpadDf+lS3gLjZfxCh6JwNmoEVK8O86efwtG2LRxdumhdElGpo9gRbpUqVTBlyhSYTCYYjUbUq1cPV65cwZUrVxAbG4uoqCgsWLAAsoedUqQ/fhxCkuB41E4FK4wFC+Bo1Ai+Y8ZASknRuhqiUkexwK1fvz6aN28OAEhMTMTWrVvRsWNHtGvXDjNnzsTq1avx22+/Ye3atUqV4H5OJwwnT+atmeDvr3U1pY/ZjOyvv4Zkt8Pv5Zfz5nWJyEXx08LOnTuH0aNHY9KkSahbty4WLlzoem7IkCHYsGEDYmJiCt1e+fLli1WH2Wwu1n53OXMGyM6GvnXrQrd3++vc0n8RKNlfQW2Xb90a+PJLGPr3R8D77wOffaZYHe4QEBCgdQluUVbGAZStsdxL0cA9cuQIxo8fj9jYWERERCA+Ph6JiYkIDw8HAAghYCjijRYzMjKKPA0REBAAixuWFDT9+it0fn7IrVmzUEsUmgFYLBaYzWa39F9Yt/tVpO0CxmIGkJ6eDoSFwfzqq/D+/HNkN2gA26BBitRSUgEBAXn1eriyMg6gbIyloF8Yik0pXL16Fa+99ho+/vhjREREAMgL2JkzZyIjIwN2ux2rVq1CF0/5cCUzE7qLF+Fo0uTRWTehBCzvvgt7aCh83ngD+t9+07ocolJBsSPcpUuXwmq14sM7ThPq378/Ro0ahQEDBsDhcCAsLAyRkZFKleBWht9/hyTEo7duQnEZDMheuhT+zz0Hv2HDcGvXLoiqVbWuikhTigXutGnTMG3atAc+N6iU/omZLyGgP3UKzscegyjD80vuJipWRPby5fDv2hV+w4Yhc9MmwGTSuiwizfBv40KQ/vwTuhs38s41pSJxNm6M7M8+g+HwYfhMnMg7RdAjjYvXFILh1CkInQ7Ohg21LsUj2Xv3hiU+HuY5cyDXqYPcN9/UuiQiTTBwH0aWoT99GnK9eoDKp3aVJbmTJ0OXlATzzJlwPv447H37uq3t8r6+0BVzqqIkpyDJNhsyuAA7FQED9yF0iYl5C9VwOqFkJAk58+ZBl5IC37FjkVWjBhwhIW5pWmcywTJ5cpH3K+npeubZs3nHCyoSzuE+hP7UKQhv77J9R161eHkhe9kyyLVrw3fwYOjOndO6IiJVMXALYrNBf/583txtES/QoAcTFSoga9UqQK+HX3Q011ygRwoDtwD6Cxcg2e38sMzN5McfR9aaNdBlZMA/OhrS9etal0SkCgZuAfRnzkD4+vL2MQpwNmuGzFWroEtJgV/fvpAyMrQuiUhxDNz8WK3QJSTkHd3yUl5FONu1Q9a330J/5gz8+vfnB1BU5jFJ8qE/dw6S08npBIU5XngB2UuWQP/rr/AbNIihS2UaAzcf+jNnIJcrB/mxx7Qupcyz9+qFnEWLYNi/H34xMUBmptYlESmCgfsgFgt0iYl5R7e8jY4qbDExyP7iCxgOH877II1zulQGMXAfQH/2LCRZ5nSCyux9+iD7q6+gP3YMfr17Q/LwdVGJ7sXAfQD92bOQK1TgcoIasEdFIfu776D//Xf4R0ZCunxZ65KI3IaBe6/cXOiSkuAMDuZ0gkbs4eHIWrUKuuRklAsPh+70aa1LInILBu499Bcu5E0nBAdrXcojzREaiswffwRkGf7du8Nw8KDWJRGVGAP3Hvpz5yD8/CCqV9e6lEees0kTZG7fDhEYCL8+fWBcv17rkohKhIF7J7s972KH+vU5nVBKyEFByNy2DY6WLeH38svwnjULKOJNRIlKCwbuHXQXL0JyODidUMqIgABkrV8P68CBMH/0EXyHDweysrQui6jIGLh30J87l7cUI9dOKH28vJDz2WfImTkTxi1b4N+1K3RJSVpXRVQkDNzbnM68pRifeALQ67Wuhh5EkmAdMyZvpbErV+D//PMw7NundVVEhcbA/Yvu0iVIViunEzyAo3NnZP78M0TlyvDr0wdYsIA3pySPwMD9i/7sWQijEfLjj2tdChWCXLcubv30E+xhYcCECTD++CNgt2tdFlGBGLhA3o0iz5+Hs25d3tnBk5Qrh+xly4D334f+99/h9f33kG7e1LoqonwxcAHorlyBlJ0NmdMJnkenA6ZNg+2vRcy9vvsOuosXta6K6IEYuAB0Z89C6PV5R7jkkeS6dWEdOhTC3x+mNWtgOHSI87pU6hTq7+dx48ZhwIABaN++vdL1qE8I6M+fh1y7NuDlpXU1VAIiIADWQYNg3L4dxn37oPvjD9i6d+f3tQwo7+sLncmker+yzYYMNy6KX6jA7dKlCxYtWoR3330XMTExiI6ORoUKFdxWhJaktDTobt6ErXVrrUshdzCZYI+MhFy9Ooy7d8Nr2TLYeveGqFRJ68qoBHQmEyyTJ6ver3n2bLfehaRQUwo9evTA8uXLsWjRIqSmpqJv3774n//5Hxw/ftxthWhFf/48AECuV0/jSshtJAnOVq1g69cPUm5u3rzu2bNaV0VU+DlcWZaRlJSExMREOJ1OVKpUCe+88w4WLFigZH2K0124ADkwEKJcOa1LITeTa9VC7rBhEJUrw2vDBhh++YXrMJCmCjWlMHfuXMTFxSEoKAgDBw7E/PnzYTQakZOTg86dO2P8+PFK16kMiwW6y5fhaNdO60pIKf7+sA4YAOPPP8P4r3/lzetGRQFms9aV0SOoUIGblpaGf/zjH2h4zy1nfHx88Mknn+S73+eff46tW7cCAEJDQzFp0iQcPHgQs2bNgtVqRbdu3TBx4sQSlF8y+oQESELkXc5LZZfBAHvXrnnzuj//DK/vvoOtVy+AF7mQygo1peB0Ou8L29tHtc8888wD9zl48CD279+P9evXY8OGDTh16hQ2b96M2NhYLFq0CFu2bMHJkyexd+/eEg6h+HTnz0P4+kJUq6ZZDaQeZ7NmsA4cCMgyvFasAOLjtS6JHjEFHuFOnz4d165dw5EjR5CWluba7nA4kJycXGDDVapUwZQpU2D661SOevXqITExEbVr10ZQUBAAICoqCtu2bUNoaGhJx1F0Tif0Fy/yzryPGFG9OqxDhsArLg7SqlXQP/88nC1bal0WPSIKDNy+ffvi3LlziI+PR3h4uGu7Xq9H8+bNC2y4fv36rn8nJiZi69atGDx4MKpUqeLaHhgYiGvXrhWp4PLlyxfp628z3ztnl5AA2GwwPPUUDArO593u977+FaZkfwW1HRAQoFi/BSnSeM1m4KWXgLg4mH7+Oe+0ny5divWLV6vx3qu01OEO+Y1F7Z+h29z52hYYuE2aNEGTJk3QoUMHVC3mHWzPnTuH0aNHY9KkSdDr9UhMTHQ9J4SAVMQ3eUZGBuQiftIcEBAAi8Vy1zbj779DbzAgt3p14J7n3MUMwGKxwGw239e/km73q0jbBYzFDCBdg1ubP+j7WxjmmBg4fvwRhkOH4ExLgy0iokhraWg13nsFBASUijrcIb+xFPd7XFLF+R4XFNAFvrsmTJiA+fPnY+TIkQ98/p///GeBHR85cgTjx49HbGwsIiIicPjwYVy/ft31/PXr1xEYGFhgG4oQIu90sFq1AKNR/f6pdNDpYH/+eYjy5WHcvRum3FzYevcGNLiiiR4NBQbuK6+8AgB46623itzw1atX8dprr2Hu3LkICQkBADRr1gwXL15EUlISatasic2bNyM6OroYZZeMlJqad3VZmzaq902ljCTB0bo1hNkM49at8Fq9GtboaJ42RoooMHAbN24MAGjTpg2Sk5MRFBSEPXv24NSpUxg6dGiBDS9duhRWqxUffviha1v//v3x4YcfYty4cbBarQgNDUXXrl3dMIyi0V+4AABw8uoy+ouzcWMILy+YNm2C1w8/wBoTA/j5aV0WlTGFmrB6++23AQDDhg3DtGnT0LFjR8TGxuKzzz7Ld59p06Zh2rRpD3xu06ZNxSjVfXTnz0OuWhXw99e0Dipd5Pr1YevbF6a4OHitWAFb//68ApHcqlDn4Z48eRLvvPMOduzYgd69e2PWrFm4fPmy0rUpIzcXuitXuBQjPZBcuzas/fpBslhgWrkS0q1bWpdEZUihAlcIAZ1OhwMHDqDdX5fB5ubmKlqYUvQXL+ZdXcbpBMqHeOwxWGNiGLrkdoUK3Fq1auGVV15BSkoK2rRpgzfeeAMNGjRQujZF6BISIMxmXl1GBRLVqzN0ye0KFbizZs1CZGQkli1bBqPRiFatWmHmzJlK1+Z+QuRdXfb443m3ZiEqwL2hi8xMrUsiD1eo1PHx8UGrVq1w69YtnDp1Ck2bNkVCQoLStbmd9McfkHJyIHP+lgrJFbo5OfBavRrIydG6JPJghTpLYf78+fjqq69Q6Y5V8yVJws6dOxUrTAn6hAQIAM46dbQuhTyIqF4dtj59YFq7Fl5r1sDavz9v20PFUqjA3bhxI3766adiX95bWugTEiCqVwd8fLQuhTyMXKsWbD17wrR+PUzr1sH24otal0QeqFBTCtWrV/f4sEVODqSrV3k6GBWbXK8e7BER0KWkwLRxI2CzaV0SeZhCHeGGhIRgzpw5eP755+Ht7e3a3qhRI8UKczf9xYuQAAYulYjzyScBqxWmn34Chg4FPv8c0Ou1Los8RKECNy4uDgCwbds21zZPm8PVJSRA+PjwdDAqMWfz5rBbrTCuWgUfb2/kfPop11SmQilU4O7atUvpOpR1e7HxevX4g0Fu4WjbFsaQEHh9+CHkypWR+7//q3VJiivv6wudCiuplaW1fe9VqMDNzs7GJ598ggsXLmD+/Pn49NNPMXnyZPj6+ipdn3scPgwpN5eng5F7zZwJ6+XLMH/yCUTlyrCOHq11RYrSmUywTJ6saB/5rbdsnj1b0X7VUqgPzT744AP4+/sjNTUVXl5eyMrKci1o4xG2boWQpLwLHojcRZKQ88knsEVGwmfqVJjWrNG6IirlChW4p0+fxsSJE2EwGGA2m/Hxxx/j9OnTStfmPlu2QH7sMa5xSu5nMCD7iy9gf+YZ+Lz2Ggw7dmhdEZVihQpc3T2XwTqdzvu2lVbStWvAkSOcTiDleHsja/lyOJ96Cn7Dh0N/+LDWFVEpVajUbN26NT766CPk5uZi3759GDt2LNq2bat0bW5h/OtMCp4ORooqVw5Zq1dDrl4dfv37Q+dJfwGSagoVuG+++SZ8fHzg7++PefPmoWHDhpg0aZLStbmF8eefgerVIbS4dxo9UkRgILLWrQO8vODfty90yclal0SlzEMDd8eOHRgyZAi+/PJLpKSkwN/fHy1btoSXJ1xL7nDAsGsX0K0bTwcjVci1ayNr7VogOxt+0dGQbtzQuiQqRQo8LWzr1q2YO3cuxo8fj4YNG0KSJJw4cQIzZsyA1WpFWFiYWnUWi5SWBt2tW0B0NLB3r9bllH0OR5k+h7KwnI0aIWvlSvj36QO/fv2QuWEDb+dEAB4SuN999x2++eYbPPbYY65t9erVQ7NmzRAbG1vqA1cEBuJmfDwqBAczcNVgMCh+nuaDlMZzNJ3t2iH766/hO3gw/IYORdbKlVxhjAqeUsjOzr4rbG+rU6cOrFarYkW5k6hSResS6BFlDw9Hzmefwbh3L3xHjwacTq1LIo0VGLj6AhblEEK4vRiissbWvz9y3nsPpk2b4DNpEsCfm0daoS7tJaLis44dC11qKrznz89bd2HqVK1LIo0UGLjx8fFo2bLlfduFELBxLVCiQrO8/TakGzdg/uijvHUXXnlF65JIAwUG7g5epkjkHpKEnLlzIaWnwzxlCuSKFWGPjta6KlJZgYFbo0YNteogKvsMBmT/4x/we/FF+L76KrLKlYOjSxetqyIVecaCCERlhdmMrBUr8tZdGDIExu3bta6IVMTAJVJbuXLIWr8ezsaN4TtkCIybNmldEamEgUukAREQgMy4ODhbtoTvyy/DuG6d1iWRChi4RFopVw6Za9fC0a4dfEeNgmnZMq0rIoUxcIm05OeHrFWr4Hj2WfhOmADv2bN5cUQZpmjgZmVlITIyEikpKQCAqVOnIiwsDD179kTPnj152hkRAPj4IOuHH2Dt3x/m2bPhM348YLdrXRUpQLErzY4dO4Zp06YhMTHRte3kyZNYvnw5Ark2LdHdTCbkLFwIuWZNmD/+GLrERGR/9RXXAiljFDvCXb16NaZPn+4KV4vFgitXriA2NhZRUVFYsGABZFlWqnsizyNJyI2NRfb//R8MR46gXOfO0B85onVV7uN0Qrp5E7qUFOgSE6G7cCHvv8uXIaWmAo/A1auKHeHOmDHjrsc3btxAu3btMH36dPj7+2P06NFYu3YtYmJiitRu+fLli1WPWaMbSN7uV+3+leyvoLa1fp3V2u82Rdb/HT0aaNMGUu/eKBcRAcyYAbz+OlDAfQTVWoe40K9XTg6QlARcvgxcuwb8+Sdw69bD96tQAeaqVYHHHweCg4GKFYvet5u587VVbfGaoKAgLFy40PV4yJAh2LBhQ5EDNyMjo8hHxgEBAQ+8173SzMg7sjebzar2f7tfRdouYCxK9luQ4vZb0u+LGUB6enqx9y/Q449D2rkTPhMmwPQ//wP7xo3IXrQIombN+740ICBAuTru6Sff18tuhy4pCfrEROiSk6G7fh0AIHQ6iEqVINesCREQAOHvD+HnBxiNEAYDIAQkqxWSxQLp5k0Y09MhX74MXXw8sH075EqV4GjaFKabNzV7bxX1tS0ooFUL3Pj4eCQmJiI8PBxA3gI4BgMXKyPKj6hYEdnffQf78uXwiY1F+fbtYXnzTVjHjAFMJq3LA7Kzob9wAfrz56FLTITkcEAYjZBr1IC9YUPIQUGQq1UDHvJzfuc5GUazGda/wld34QL0Z87AtHs3ULMmjA0awB4SAvj6KjsuBamWeEIIzJw5E+3atYOPjw9WrVqF3r17q9U9kWeSJNiGDIGjUyeYp0yBzzvvwOv772F57z3Yw8JUv1eflJqaF7Dnz+fNvQKQ/f3hbNoUzieegBwUBBSwjnZhiQoV4Hz6aTiffhrStWvwliTov/0W+pMn4QgJgePppx8a5KWRahU3bNgQo0aNwoABA+BwOBAWFobIyEi1uifyaHLt2sj+4QfYtm+HOTYWfgMGwNG0KXLfeAMYNEi5jh0OGA4fhnHrVuCnn+B97lxePYGBcLRvD2f9+nl3xFYw+EXVqsDs2bDq9TDu2QPj3r3QnzwJW2Rk3nMeRPHA3bVrl+vfgwYNwiAl3xxEZZw9PBz2556Dac0aeH/6KfyGDQNiY+EdEwNbv36Q69cvWfgJAV1CAgwHDsCwfz+MO3dCl54OYTQCnTvDVrs25Hr1IIr54XVJiEqVYIuOhi4hAaZt2+C1bBkcHTvC0aaNx9yV2/OOyYkedUYjbAMHwhYTA+OWLfBbvRre8+fDPHcunLVqwdG5Mxxt28LZsCGcwcGAj8+D28nNhe7qVejOnYPh1CnoT5yA4V//gu6PPwAAcpUqsIeFwd61K+ydOyOgdm04NbhJ6L3kunWR+9JLMG3fDuPevdBdvgxbZGTpmNd+CAYukacyGGDv0QMYNgwZv/8O048/wrBnD0xxcfD69lvXl8nlykFUqADh7w/JbgdsNkiZmdClpt7VnDMoCI4OHWBv3x6O9u0hBweX3iNHsxm2nj2h/89/YNy1C14rVsAaHV3qb0fPwCUqLodDtfNf7yTbbMjIzr5rm6heHdaRI2EdORJwOKBLSIA+Ph76+HhIN25AysiAlJkJGAwQXl6Anx/kxx6DXL06nHXrwvnUU0C5cqqPpUQkCc6nn4aoUAGmTZvgvWwZrP36QVSqpHVl+WLgEhWXwQCLBn9im2fPBu4J3LsYDJCDgyEHB8MeFaVeYRqR69WDddAgeK1eDa+VK2Ht37/Uhi5XCyMijycCA2Ht3x8QAl4rV+ZdKlwKMXCJqEwQlSv//9BdtQrIzNS6pPswcImozBCVK8MaEwPYbPBauxawWrUu6S4MXCIqU0RgIGw9e0JKTYVpwwbA6dS6JBcGLhGVOXKdOrCHh0OflATjzz9rXY4LA5eIyiRnkyawt2kDw7Fj0J88qXU5ABi4RFSGOTp1grNWLRh/+gnStWtal8PAJaIyTKeDLSoK8PaGaeNGIDdX23I07Z2ISGm+vnkfomVkwKjxjWsZuERU5sk1asDRoQMMp09D//vvmtXBwCWiR4KjXTs4a9SAcccOSIW5v5oCGLhE9GjQ6WCPiABkGcYffwSEePg+7i5B9R6JiDQiKlSA/fnnoU9Ohv7oUdX7Z+AS0SPF2aQJnLVrw7h3r+pTCwxcInq0SBLs4eGAEDD+9JOqUwsMXCJ65IgKFWDv2BH6hAToT59WrV8GLhE9kpwtW0KuXh3G3btVW1WMgUtEjyadDrYuXYDsbBgPHFCnS1V6ISIqhUS1anA2awb9kSOQbtxQvD8GLhE90uydOgFeXnnLOCr8ARoDl4gebWZz3gdoly5BHx+vaFcMXCJ65DmbNYMcGAjD7t2AzaZYPwxcIiKdDvYuXaDLzITh0CHlulGsZSIiDyLXqAFHo0Yw/PYbpIwMRfpg4BIR/cXeqRMgSTD88osi7TNwiYhu8/eHo3VrGE6fhnT1qtubVzRws7KyEBkZiZSUFADAwYMHERUVhbCwMMydO1fJromIisXRpg2Ej0/eFWhuPk1MscA9duwYBgwYgMTERABAbm4uYmNjsWjRImzZsgUnT57E3r17leqeiKh4vLxgf+YZ6FNSgC1b3Nq0YoG7evVqTJ8+HYGBgQCA48ePo3bt2ggKCoLBYEBUVBS2bdumVPdERMXmbNoUjiZNgIAAt7ZrcGtrd5gxY8Zdj//8809UqVLF9TgwMBDXSsFti4mI7qPTwd6tGwzt2wPp6W5rVrHAvZcsy5AkyfVYCHHX48IqX758sfo3m83F2q+kbverdv9K9ldQ21q/zmrt5679i8XhQMA9R173PlaKGuPNrw+t3lvufG1VC9xq1arh+vXrrsfXr193TTcURUZGBmRZLtI+AQEBsFgsRe6rpMwALBYLzGazqv3f7leRtgsYi5L9FqS4/Zb0+6LZeA0GWCZP/v+PVXp/mWfPVryf/Mai5XsrvYhHuAUFtGqnhTVr1gwXL15EUlISnE4nNm/ejE6dOqnVPRGR5lQ7wvXy8sKHH36IcePGwWq1IjQ0FF27dlWreyIizSkeuLt27XL9OyQkBJs2bVK6SyKiUolXmhERqYSBS0SkEgYuEZFKGLhERCph4BIRqYSBS0SkEgYuEZFKGLhERCph4BIRqYSBS0SkEgYuEZFKGLhERCph4BIRqYSBS0SkEgYuEZFKGLhERCph4BIRqYSBS0SkEgYuEZFKGLhERCph4BIRqYSBS0SkEgYuEZFKGLhERCph4BIRqYSBS0SkEgYuEZFKGLhERCph4BIRqYSBS0SkEgYuEZFKDFp0OmTIEKSlpcFgyOv+vffeQ7NmzbQohYhINaoHrhACiYmJ2L17tytwiYgeBapPKSQkJAAARowYgR49emD58uVql0BEpAnVDzFv3bqFkJAQvPXWW7Db7Rg6dCjq1KmDDh06qF0KEZGqVA/cFi1aoEWLFq7Hffv2xd69ewsduOXLly9Wv2azuVj7ldTtftXuX8n+Cmpb69dZrf3ctb+7+lWrDjX6ya8PrV7rgIAAt7WleuD+9ttvsNvtCAkJAZA3p1uUudyMjAzIslykPgMCAmCxWIq0jzuYAVgsFpjNZlX7v92vIm0XMBYl+y1Icfst6feltIxXrfeXGuPNbyxavtbp6elF2qeggFZ9DjczMxNz5syB1WpFVlYW1q9fjy5duqhdBhGR6lQ/wu3cuTOOHTuGXr16QZZlDBw48K4pBiKiskqT87L+/ve/4+9//7sWXRMRaYZXmhERqYSBS0SkEgYuEZFKGLhERCph4BIRqYSBS0SkEgYuEZFKGLhERCph4BIRqYSBS0SkEgYuEZFKGLhERCph4BIRqYSBS0SkEgYuEZFKGLhERCph4BIRqYSBS0SkEgYuEZFKGLhERCph4BIRqYSBS0SkEgYuEZFKGLhERCph4BIRqYSBS0SkEgYuEZFKGLhERCph4BIRqYSBS0SkEgYuEZFKNAncf/7zn+jevTvCwsLw/fffa1ECEZHqDGp3eO3aNcydOxdxcXEwmUzo378/2rZtiyeeeELtUoiIVKV64B48eBDt2rVDhQoVAADh4eHYtm0bxo4dW6j9JUmCTlf0A3MpIKDI+7iDFBAAeHtD8vZWv18lPGQsmr7OReWG70upGK+K7y/Fx1vAWLR6rYuTN/mRhBDCba0VwpIlS5CTk4OJEycCANasWYPjx4/j/fffV7MMIiLVqT6HK8syJElyPRZC3PWYiKisUj1wq1WrhuvXr7seX79+HYGBgWqXQUSkOtUDt3379jh06BDS0tJgsVjw008/oVOnTmqXQUSkOtU/NKtatSomTpyIoUOHwm63o2/fvmjatKnaZRARqU71D82IiB5VvNKMiEglDFwiIpUwcImIVMLAJSJSCQO3hGbPno0pU6YAyLtsOSoqCmFhYZg7d67ra06fPo0+ffogPDwc//u//wuHwwEAuHLlCgYNGoSuXbvi1VdfRXZ2tiZj2LVrF/r06YNu3brhgw8+8OixbNy4EREREYiIiMDs2bM9bixZWVmIjIxESkqKW2u/desWRo0ahW7dumHQoEF3nQuv1lhWrVqFyMhIREVFYerUqbDZbB4zFrcRVGwHDx4Ubdu2FZMnTxYWi0WEhoaKS5cuCbvdLkaMGCH27NkjhBAiIiJC/Pe//xVCCDF16lTx/fffCyGEGDVqlNi8ebMQQojPP/9czJkzR/UxXLp0STzzzDPi6tWrwmaziQEDBog9e/Z45FhycnJE69atRWpqqrDb7aJv375i586dHjOWo0ePisjISNGoUSORnJzs1vfUu+++K5YsWSKEEGL9+vViwoQJqo4lISFBdOnSRWRmZgpZlsWkSZPE119/7RFjcSce4RbTzZs3MXfuXIwZMwYAcPz4cdSuXRtBQUEwGAyIiorCtm3bcPnyZeTm5qJ58+YAgD59+mDbtm2w2+349ddfER4eftd2te3YsQPdu3dHtWrVYDQaMXfuXJjNZo8ci9PphCzLsFgscDgccDgc8PPz85ixrF69GtOnT3ddeenO99SePXsQFRUFAIiMjMQvv/wCu92u2lhMJhOmT58OPz8/SJKE4OBgXLlyxSPG4k6qX/hQVrz99tuYOHEirl69CgD4888/UaVKFdfzgYGBuHbt2n3bq1SpgmvXriE9PR1+fn4wGAx3bVdbUlISjEYjxowZg6tXr+LZZ59F/fr1PXIsfn5+mDBhArp16waz2YzWrVt71PdlxowZdz12Z+137mMwGODn54e0tDRUrVpVlbHUqFEDNWrUAACkpaXh+++/x6xZszxiLO7EI9xiWLNmDapXr46QkBDXtvwW5clvu3jAoj1aLOLjdDpx6NAhzJw5E6tWrcLx48eRnJzskWM5c+YM1q1bh927d2Pfvn3Q6XRITEz0yLEAyr6nhBBuXXawsK5du4Zhw4YhOjoabdu29eixFAePcIthy5YtuH79Onr27ImMjAzk5OTg8uXL0Ov1rq+5vSjPvYv13LhxA4GBgahYsSIyMzPhdDqh1+s1W8SncuXKCAkJQcWKFQEAL7zwArZt2+aRY9m/fz9CQkJQqVIlAHl/hi5dutQjxwLkv9BTcWoPDAzEjRs3UK1aNTgcDmRnZ7vWpFbLhQsXMHLkSAwZMgQjRox44Bg9ZSzF5Rm/FkqZr7/+Gps3b8bGjRsxfvx4PPfcc/jyyy9x8eJFJCUlwel0YvPmzejUqRNq1KgBLy8vHDlyBEDep+idOnWC0WhEq1atsGXLFgDAhg0bNFnEp3Pnzti/fz9u3boFp9OJffv2oWvXrh45loYNG+LgwYPIycmBEAK7du1Cs2bNPHIsANxae2hoKDZs2AAg74ChVatWMBqNqo0lKysLL7/8MiZMmOAKWwAeOZYSUf1jujJm3bp1YvLkyUKIvLMWoqKiRFhYmJgxY4aQZVkIIcTp06dFdHS0CA8PF6+//rqwWq1CCCFSUlLE4MGDRbdu3cSIESPEzZs3NRnDmjVrREREhAgLCxPvvvuucDqdHjuWJUuWiPDwcBEZGSmmTp0qcnNzPW4snTt3FsnJyUII972n0tPTxejRo0X37t1Fv379XO2rNZavv/5aNGrUSPTo0cP137x58zxqLO7AxWuIiFTCKQUiIpUwcImIVMLAJSJSCQOXiEglDFwiIpXwwgcqlRo0aIDg4GDodDpIkgSLxQI/Pz+88847aNKkSbHaTElJQVRUFP773/8+8Pmff/4Z33zzDW7cuAFZllGxYkW8+uqrCA0NBQBMmTIFBw4ccF0kYrfb0apVK4wbN851qem9dTscDkRFRWH06NHFqpnKGK3PSyN6kODgYJGamnrXti+//FLExMQUu83k5GTRvHnzBz63cuVK0a1bNxEfH+/advr0adGhQwdx7NgxIYQQkydPFl9++aXreVmWxeLFi0WPHj2Ew+F4YN2ZmZniueeeE7t27Sp23VR2cEqBPILD4cDVq1dRvnx517bFixejd+/e6NmzJ/72t7+5Fjc5evQoBg0ahBdffBHPPvssYmNjC2zbZrPh008/xezZsxEcHOza3rBhQ7z77ruQZfmB+0mShDFjxiA3NxcHDhx44Nf4+fmhcePGSEhIKOqQqQzilAKVWsOGDQMApKenw8vLC507d8asWbMA5F3qefbsWaxZswYGgwGrVq3CtGnT8I9//APfffcdxo8fj7Zt2yI7OxvPP/88Tp48me/19hcuXACAB05VPP/88w+ts0GDBjh79uwDLwFOSEjAr7/+ipdffrmww6YyjIFLpda3336LihUr4tSpUxg1ahTatm3rWphm9+7dOHHiBKKjowHAtQ4uAHz44Yf45Zdf8H//939ISEiA1WpFTk5OvoErHnCx5cCBA5GdnY3c3Fw0bdoUH330Ub51SpIEs9nsejxs2DDodDrIsgyz2YxJkyahadOmxX0ZqAxh4FKp16hRI0ydOhVTpkzBk08+iZo1a0KWZYwcORIDBw4EkDctkJGRAQAYPHgwGjRogI4dO6Jbt244duzYA0P1tnr16kEIgbNnz7qmFFasWAEAiIuLw/bt2/PdVwiBU6dOYfDgwa5tt39REN2Lc7jkESIjI9G0aVPXlMIzzzyDtWvXIisrCwAwf/58TJo0Cbdu3cKJEyfw5ptvIiwsDH/88QcuXbqU7zwsAHh5eeHNN9/Em2++ifPnz7u2p6am4sCBA/mutep0OrFw4UIEBASgdevWbhwtlVU8wiWP8dZbb6FHjx7Yt28fXnzxRVy7dg0xMTGQJAnVq1fHhx9+iHLlymHUqFHo3bs3fHx8ULVqVbRs2RJJSUkICgrKt+2YmBhUrVoVM2bMQFpaGiwWC0wmE1544QXXXDIAfPPNN9i0aRMkSYLT6USTJk3wxRdfqDF8KgO4WhgRkUo4pUBEpBIGLhGRShi4REQqYeASEamEgUtEpBIGLhGRShi4REQqYeASEank/wHOI6K1XlOlfgAAAABJRU5ErkJggg==\n",
      "text/plain": [
       "<Figure size 360x360 with 1 Axes>"
      ]
     },
     "metadata": {},
     "output_type": "display_data"
    }
   ],
   "source": [
    "sns.displot(df_macro['realgdp'], color = \"red\", kind=\"hist\", kde=True)\n",
    "plt.title(\"KDE on top of Histogram for Real GDP\")\n",
    "plt.xlabel(\"Real GDP\")\n",
    "plt.ylabel(\"Density\");"
   ]
  },
  {
   "cell_type": "markdown",
   "metadata": {},
   "source": [
    "**Question**: What can you say about the KDE plot overlayed on the histogram?"
   ]
  },
  {
   "cell_type": "markdown",
   "metadata": {},
   "source": [
    "**Answer**: The KDE and histogram have a lot of overlap, but the KDE smooths out the small spike at around 12,500 and has fatter tails."
   ]
  },
  {
   "cell_type": "markdown",
   "metadata": {},
   "source": [
    "### Joint Distribution"
   ]
  },
  {
   "cell_type": "markdown",
   "metadata": {},
   "source": [
    "The last visualization technique we will look at is plotting a joint distribution. Use the [`.jointplot()`](https://seaborn.pydata.org/generated/seaborn.jointplot.html) method to plot the joint distribution of unemployment and inflation. Note that .jointplot() returns a different type of object than the other plots we have worked with so titling it might be hard. Check out this answer on [stackoverflow](https://stackoverflow.com/questions/49065837/customize-the-axis-label-in-seaborn-jointplot) to see if you can figure it out!"
   ]
  },
  {
   "cell_type": "code",
<<<<<<< HEAD
   "execution_count": 37,
=======
   "execution_count": 146,
>>>>>>> 11117d6361285a7c9a43b566b4aa8d5c497cd834
   "metadata": {},
   "outputs": [
    {
     "data": {
<<<<<<< HEAD
      "image/png": "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\n",
=======
      "image/png": "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\n",
>>>>>>> 11117d6361285a7c9a43b566b4aa8d5c497cd834
      "text/plain": [
       "<Figure size 432x432 with 3 Axes>"
      ]
     },
     "metadata": {},
     "output_type": "display_data"
    }
   ],
   "source": [
    "j_plot = sns.jointplot(x = 'unemp', y = 'infl', data = df_macro, alpha = .5)\n",
    "\n",
    "# JointGrid has a convenience function\n",
    "j_plot.set_axis_labels('Unemployment', 'Inflation', fontsize=16)\n",
    "\n",
    "# or set labels via the axes objects\n",
    "#j_plot.ax_joint.set_xlabel('Unemployment')\n",
    "\n",
    "# also possible to manipulate the histogram plots this way, e.g.\n",
    "#j_plot.ax_marg_y.grid('on') # with ugly consequences...\n",
    "\n",
    "# labels appear outside of plot area, so auto-adjust\n",
    "plt.tight_layout();"
   ]
  },
  {
   "cell_type": "markdown",
   "metadata": {},
   "source": [
    "**Question**: What can you say about the relationship between inflation and unemployment? Why are joint distributions interesting in general?"
   ]
  },
  {
   "cell_type": "markdown",
   "metadata": {},
   "source": [
    "**Answer**: Inflation and unemployment do not seem to have a strong relationship. These types of plots are useful because the joint distributions of variables can help us understand how different features in our dataset are related to one another. Later in the semester we will learn techniques for dropping reundant variables, reducing multicollinearity, etc. so visualizing these relationships helps with our machine learning workflow."
   ]
  },
  {
   "cell_type": "markdown",
   "metadata": {},
   "source": [
    "## Simulations"
   ]
  },
  {
   "cell_type": "markdown",
   "metadata": {},
   "source": [
    "One of the advantages of computational social science is that computing gives us the tools to create simulations. Traditional pedagogy in statistics emphasizes solving problems analytically, but oftentimes we can solve the same problems computationally. For now, let's explore the [bootstrap](https://en.wikipedia.org/wiki/Bootstrapping_(statistics)#:~:text=Bootstrapping%20is%20any%20test%20or,etc.\\)%20to%20sample%20estimates.) as a way to use simulations. A common problem in statistics is that we usually do not know the true parameters (mean, variance, etc.) of a population. Using the bootstrap, we can estimate these values. The basic procedure for the bootstrap is to do the following:\n",
    "\n",
    "1. For a dataset of size n, take a resample **with replacement** of size n.\n",
    "2. Calculate the quantity of interest (i.e. mean, median, etc.)\n",
    "3. Repeat this procedure a large number of times (for example, 1000)\n",
    "4. Visualize/analyze the distribution of the resampled quantity\n",
    "\n",
    "Let's try it ourselves. First, let's see how many observations we have in our df_macro dataset. Use the `.size` property to find this information.\n",
    "\n"
   ]
  },
  {
   "cell_type": "code",
   "execution_count": 38,
   "metadata": {},
   "outputs": [
    {
     "name": "stdout",
     "output_type": "stream",
     "text": [
      "2842\n",
      "(203, 14)\n"
     ]
    }
   ],
   "source": [
    "print(df_macro.size)  # this is the number of cells in the df \n",
    "print(df_macro.shape) # there are 203 rows in df_macro"
   ]
  },
  {
   "cell_type": "markdown",
   "metadata": {},
   "source": [
    "Next, find the median for the real GDP quantity."
   ]
  },
  {
   "cell_type": "code",
<<<<<<< HEAD
   "execution_count": 39,
=======
   "execution_count": 152,
   "metadata": {},
   "outputs": [
    {
     "data": {
      "text/plain": [
       "0       2710.349\n",
       "1       2778.801\n",
       "2       2775.488\n",
       "3       2785.204\n",
       "4       2847.699\n",
       "         ...    \n",
       "198    13324.600\n",
       "199    13141.920\n",
       "200    12925.410\n",
       "201    12901.504\n",
       "202    12990.341\n",
       "Name: realgdp, Length: 203, dtype: float64"
      ]
     },
     "execution_count": 152,
     "metadata": {},
     "output_type": "execute_result"
    }
   ],
   "source": [
    "df_macro.realgdp"
   ]
  },
  {
   "cell_type": "code",
   "execution_count": 119,
>>>>>>> 11117d6361285a7c9a43b566b4aa8d5c497cd834
   "metadata": {},
   "outputs": [
    {
     "data": {
      "text/plain": [
       "6559.594"
      ]
     },
     "execution_count": 39,
     "metadata": {},
     "output_type": "execute_result"
    }
   ],
   "source": [
    "df_macro['realgdp'].median()"
   ]
  },
  {
   "cell_type": "markdown",
   "metadata": {},
   "source": [
    "Now, resample the dataframe with replacement and find the median of real GDP. "
   ]
  },
  {
   "cell_type": "code",
   "execution_count": 40,
   "metadata": {},
   "outputs": [],
   "source": [
    "resample = df_macro.sample(n=203, replace=True, random_state=1)"
   ]
  },
  {
   "cell_type": "code",
   "execution_count": 41,
   "metadata": {},
   "outputs": [
    {
     "data": {
      "text/plain": [
       "False    126\n",
       "True      77\n",
       "dtype: int64"
      ]
     },
     "execution_count": 41,
     "metadata": {},
     "output_type": "execute_result"
    }
   ],
   "source": [
    "resample.duplicated().value_counts()"
   ]
  },
  {
   "cell_type": "code",
   "execution_count": 42,
   "metadata": {},
   "outputs": [
    {
     "data": {
      "text/plain": [
       "6197.468"
      ]
     },
     "execution_count": 42,
     "metadata": {},
     "output_type": "execute_result"
    }
   ],
   "source": [
    "resample['realgdp'].quantile(q=.5)"
   ]
  },
  {
   "cell_type": "markdown",
   "metadata": {},
   "source": [
    "**Question**: What is the resampled mean? Does the answer you got intuitively make sense?"
   ]
  },
  {
   "cell_type": "markdown",
   "metadata": {},
   "source": [
    "**Answer**: 6197 is fairly close to the mean in the overall dataset. This makes sense since we resampled the whole dataset with replacement (i.e. duplicates)."
   ]
  },
  {
   "cell_type": "markdown",
   "metadata": {},
   "source": [
    "Next, we write a function that takes a dataframe, column, and the number of replications as arguments and returns a number of resampled medians equal to the number of replications. Similar to the slice and stride we did to a pandas data frame above, the [`.arange()`](https://numpy.org/doc/stable/reference/generated/numpy.arange.html) method in numpy creates an array based on a range. We use `.arange()` below to specify how many simulations we want to do. *Note: we could use Python's `range` for this as well.*"
   ]
  },
  {
   "cell_type": "code",
   "execution_count": 43,
   "metadata": {},
   "outputs": [],
   "source": [
    "def bootstrap_median(original_sample, label, replications):\n",
    "    \"\"\"Returns an array of bootstrapped sample medians:\n",
    "    original_sample: table containing the original sample\n",
    "    label: label of column containing the variable\n",
    "    replications: number of bootstrap samples\n",
    "    \"\"\"\n",
    "    just_one_column = original_sample.loc[:, label]\n",
    "    medians = []\n",
    "    for i in np.arange(replications): \n",
    "        bootstrap_sample = just_one_column.sample(n=203, replace=True)\n",
    "        resampled_median = bootstrap_sample.quantile(.5)\n",
    "        medians.append(resampled_median)\n",
    "\n",
    "    return medians"
   ]
  },
  {
   "cell_type": "markdown",
   "metadata": {},
   "source": [
    "Plot the medians from the realgdp column of our df_macro with a histogram, and add a line with the 95% confidence interval."
   ]
  },
  {
   "cell_type": "code",
<<<<<<< HEAD
   "execution_count": 44,
=======
   "execution_count": 165,
>>>>>>> 11117d6361285a7c9a43b566b4aa8d5c497cd834
   "metadata": {},
   "outputs": [
    {
     "data": {
<<<<<<< HEAD
      "image/png": "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\n",
=======
      "image/png": "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\n",
>>>>>>> 11117d6361285a7c9a43b566b4aa8d5c497cd834
      "text/plain": [
       "<Figure size 432x288 with 1 Axes>"
      ]
     },
     "metadata": {},
     "output_type": "display_data"
    }
   ],
   "source": [
    "medians = bootstrap_median(df_macro, 'realgdp', 10000)\n",
    "resampled_medians = pd.DataFrame(data={'Bootstrap Sample Median': medians})\n",
    "resampled_medians.hist()\n",
    "\n",
    "# This next line is quite long: have a look and see if you can see what's going on!\n",
    "plt.plot(list([pd.Series(medians).quantile(q=.025), pd.Series(medians).quantile(q=.975)]), np.array([0, 0]), color='yellow', linewidth=10, zorder=1);"
   ]
  },
  {
   "cell_type": "markdown",
   "metadata": {},
   "source": [
    "Now, we repeat this whole process 100 times to plot 100 confidence intervals."
   ]
  },
  {
   "cell_type": "code",
<<<<<<< HEAD
   "execution_count": 45,
=======
   "execution_count": 168,
>>>>>>> 11117d6361285a7c9a43b566b4aa8d5c497cd834
   "metadata": {},
   "outputs": [],
   "source": [
    "left_ends = []\n",
    "right_ends = []\n",
    "\n",
    "for i in np.arange(100):\n",
    "    first_sample = df_macro.sample(n=203, replace=True)\n",
    "    medians = bootstrap_median(first_sample, 'realgdp', 1000)\n",
    "    left_ends.append(pd.Series(medians).quantile(q=.025))\n",
    "    right_ends.append(pd.Series(medians).quantile(q=.975))\n",
    "\n",
    "intervals = pd.DataFrame(data={\"Left\": left_ends, \"Right\": right_ends})"
   ]
  },
  {
   "cell_type": "code",
<<<<<<< HEAD
   "execution_count": 46,
=======
   "execution_count": 170,
>>>>>>> 11117d6361285a7c9a43b566b4aa8d5c497cd834
   "metadata": {},
   "outputs": [
    {
     "data": {
<<<<<<< HEAD
      "image/png": "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\n",
=======
      "text/html": [
       "<div>\n",
       "<style scoped>\n",
       "    .dataframe tbody tr th:only-of-type {\n",
       "        vertical-align: middle;\n",
       "    }\n",
       "\n",
       "    .dataframe tbody tr th {\n",
       "        vertical-align: top;\n",
       "    }\n",
       "\n",
       "    .dataframe thead th {\n",
       "        text-align: right;\n",
       "    }\n",
       "</style>\n",
       "<table border=\"1\" class=\"dataframe\">\n",
       "  <thead>\n",
       "    <tr style=\"text-align: right;\">\n",
       "      <th></th>\n",
       "      <th>Left</th>\n",
       "      <th>Right</th>\n",
       "    </tr>\n",
       "  </thead>\n",
       "  <tbody>\n",
       "    <tr>\n",
       "      <th>0</th>\n",
       "      <td>5857.333000</td>\n",
       "      <td>7458.022</td>\n",
       "    </tr>\n",
       "    <tr>\n",
       "      <th>1</th>\n",
       "      <td>5787.373000</td>\n",
       "      <td>7458.022</td>\n",
       "    </tr>\n",
       "    <tr>\n",
       "      <th>2</th>\n",
       "      <td>5870.885225</td>\n",
       "      <td>7733.991</td>\n",
       "    </tr>\n",
       "    <tr>\n",
       "      <th>3</th>\n",
       "      <td>5825.949000</td>\n",
       "      <td>6623.343</td>\n",
       "    </tr>\n",
       "    <tr>\n",
       "      <th>4</th>\n",
       "      <td>6005.717000</td>\n",
       "      <td>7988.864</td>\n",
       "    </tr>\n",
       "    <tr>\n",
       "      <th>...</th>\n",
       "      <td>...</td>\n",
       "      <td>...</td>\n",
       "    </tr>\n",
       "    <tr>\n",
       "      <th>95</th>\n",
       "      <td>6623.343000</td>\n",
       "      <td>7950.164</td>\n",
       "    </tr>\n",
       "    <tr>\n",
       "      <th>96</th>\n",
       "      <td>5871.001000</td>\n",
       "      <td>7153.359</td>\n",
       "    </tr>\n",
       "    <tr>\n",
       "      <th>97</th>\n",
       "      <td>5787.373000</td>\n",
       "      <td>7332.558</td>\n",
       "    </tr>\n",
       "    <tr>\n",
       "      <th>98</th>\n",
       "      <td>5866.370000</td>\n",
       "      <td>7118.950</td>\n",
       "    </tr>\n",
       "    <tr>\n",
       "      <th>99</th>\n",
       "      <td>5889.074000</td>\n",
       "      <td>7592.881</td>\n",
       "    </tr>\n",
       "  </tbody>\n",
       "</table>\n",
       "<p>100 rows × 2 columns</p>\n",
       "</div>"
      ],
      "text/plain": [
       "           Left     Right\n",
       "0   5857.333000  7458.022\n",
       "1   5787.373000  7458.022\n",
       "2   5870.885225  7733.991\n",
       "3   5825.949000  6623.343\n",
       "4   6005.717000  7988.864\n",
       "..          ...       ...\n",
       "95  6623.343000  7950.164\n",
       "96  5871.001000  7153.359\n",
       "97  5787.373000  7332.558\n",
       "98  5866.370000  7118.950\n",
       "99  5889.074000  7592.881\n",
       "\n",
       "[100 rows x 2 columns]"
      ]
     },
     "execution_count": 170,
     "metadata": {},
     "output_type": "execute_result"
    }
   ],
   "source": [
    "intervals"
   ]
  },
  {
   "cell_type": "code",
   "execution_count": 176,
   "metadata": {},
   "outputs": [
    {
     "data": {
      "image/png": "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\n",
>>>>>>> 11117d6361285a7c9a43b566b4aa8d5c497cd834
      "text/plain": [
       "<Figure size 576x576 with 1 Axes>"
      ]
     },
     "metadata": {},
     "output_type": "display_data"
    }
   ],
   "source": [
    "plt.figure(figsize=(8,8))\n",
    "for i in np.arange(100):\n",
    "    ends = intervals.iloc[i, :]\n",
    "    plt.plot(ends, np.array([i + 1, i + 1]), color='gold')\n",
    "plt.xlabel('Median')\n",
    "plt.ylabel('Replication')\n",
    "plt.title('Population Median and Intervals of Estimates');"
   ]
  },
  {
   "cell_type": "markdown",
   "metadata": {},
   "source": [
    "**Question**: What can you say about the distributions of the resampled medians? Why is this method useful? Did your code take a while to run, and if so what does this suggest?"
   ]
  },
  {
   "cell_type": "markdown",
   "metadata": {},
   "source": [
    "**Answer**: The \"true\" median is around 6500, but there is some spread in the estimates. The distribution looks to be right skewed. These types of simulations are useful primarily because they can help us build intuition around statistical properties of our data. They can be a great way to learn more about probability, sampling, and machine learning through computation. The code did take some time to run, which does represent a general problem that we need to think about when working with big data. Models can sometimes take hours or even days/weeks to run so thinking about computational resources is important."
   ]
  },
  {
   "cell_type": "markdown",
   "metadata": {},
   "source": [
    "---\n",
    "Notebook written by Aniket Kesari. Materials borrwed from D-Lab's [pandas](https://github.com/dlab-berkeley/introduction-to-pandas) and [data visualization](https://github.com/dlab-berkeley/visualization-with-python), and [Legal Studies 123: Data, Prediction, and Law](https://github.com/Akesari12/LS123_Data_Prediction_Law_Spring-2019/blob/master/labs/Probability%20Distributions%2C%20Bootstrap%2C%20and%20Confidence%20Intervals/Probability%2C%20Bootstrap%20and%20Confidence%20Intervals%20Solutions.ipynb)."
   ]
  }
 ],
 "metadata": {
  "kernelspec": {
   "display_name": "Python 3 (ipykernel)",
   "language": "python",
   "name": "python3"
  },
  "language_info": {
   "codemirror_mode": {
    "name": "ipython",
    "version": 3
   },
   "file_extension": ".py",
   "mimetype": "text/x-python",
   "name": "python",
   "nbconvert_exporter": "python",
   "pygments_lexer": "ipython3",
   "version": "3.9.12"
  }
 },
 "nbformat": 4,
 "nbformat_minor": 4
}
